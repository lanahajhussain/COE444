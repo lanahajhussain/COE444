{
 "cells": [
  {
   "cell_type": "code",
   "execution_count": 75,
   "metadata": {},
   "outputs": [],
   "source": [
    "import sys\n",
    "import matplotlib.pyplot as plt\n",
    "import seaborn as sns\n",
    "import pandas as pd"
   ]
  },
  {
   "cell_type": "code",
   "execution_count": 76,
   "metadata": {},
   "outputs": [],
   "source": [
    "df_intrusion = pd.read_csv('Train_data.csv')"
   ]
  },
  {
   "cell_type": "code",
   "execution_count": 77,
   "metadata": {},
   "outputs": [
    {
     "data": {
      "text/html": [
       "<div>\n",
       "<style scoped>\n",
       "    .dataframe tbody tr th:only-of-type {\n",
       "        vertical-align: middle;\n",
       "    }\n",
       "\n",
       "    .dataframe tbody tr th {\n",
       "        vertical-align: top;\n",
       "    }\n",
       "\n",
       "    .dataframe thead th {\n",
       "        text-align: right;\n",
       "    }\n",
       "</style>\n",
       "<table border=\"1\" class=\"dataframe\">\n",
       "  <thead>\n",
       "    <tr style=\"text-align: right;\">\n",
       "      <th></th>\n",
       "      <th>duration</th>\n",
       "      <th>protocol_type</th>\n",
       "      <th>service</th>\n",
       "      <th>flag</th>\n",
       "      <th>src_bytes</th>\n",
       "      <th>dst_bytes</th>\n",
       "      <th>land</th>\n",
       "      <th>wrong_fragment</th>\n",
       "      <th>urgent</th>\n",
       "      <th>hot</th>\n",
       "      <th>...</th>\n",
       "      <th>dst_host_srv_count</th>\n",
       "      <th>dst_host_same_srv_rate</th>\n",
       "      <th>dst_host_diff_srv_rate</th>\n",
       "      <th>dst_host_same_src_port_rate</th>\n",
       "      <th>dst_host_srv_diff_host_rate</th>\n",
       "      <th>dst_host_serror_rate</th>\n",
       "      <th>dst_host_srv_serror_rate</th>\n",
       "      <th>dst_host_rerror_rate</th>\n",
       "      <th>dst_host_srv_rerror_rate</th>\n",
       "      <th>xAttack</th>\n",
       "    </tr>\n",
       "  </thead>\n",
       "  <tbody>\n",
       "    <tr>\n",
       "      <th>0</th>\n",
       "      <td>0</td>\n",
       "      <td>icmp</td>\n",
       "      <td>20</td>\n",
       "      <td>2</td>\n",
       "      <td>491</td>\n",
       "      <td>0</td>\n",
       "      <td>0</td>\n",
       "      <td>0</td>\n",
       "      <td>0</td>\n",
       "      <td>0</td>\n",
       "      <td>...</td>\n",
       "      <td>25</td>\n",
       "      <td>0.17</td>\n",
       "      <td>0.03</td>\n",
       "      <td>0.17</td>\n",
       "      <td>0.00</td>\n",
       "      <td>0.00</td>\n",
       "      <td>0.00</td>\n",
       "      <td>0.05</td>\n",
       "      <td>0.00</td>\n",
       "      <td>normal</td>\n",
       "    </tr>\n",
       "    <tr>\n",
       "      <th>1</th>\n",
       "      <td>0</td>\n",
       "      <td>udp</td>\n",
       "      <td>45</td>\n",
       "      <td>2</td>\n",
       "      <td>146</td>\n",
       "      <td>0</td>\n",
       "      <td>0</td>\n",
       "      <td>0</td>\n",
       "      <td>0</td>\n",
       "      <td>0</td>\n",
       "      <td>...</td>\n",
       "      <td>1</td>\n",
       "      <td>0.00</td>\n",
       "      <td>0.60</td>\n",
       "      <td>0.88</td>\n",
       "      <td>0.00</td>\n",
       "      <td>0.00</td>\n",
       "      <td>0.00</td>\n",
       "      <td>0.00</td>\n",
       "      <td>0.00</td>\n",
       "      <td>normal</td>\n",
       "    </tr>\n",
       "    <tr>\n",
       "      <th>2</th>\n",
       "      <td>0</td>\n",
       "      <td>icmp</td>\n",
       "      <td>50</td>\n",
       "      <td>4</td>\n",
       "      <td>0</td>\n",
       "      <td>0</td>\n",
       "      <td>0</td>\n",
       "      <td>0</td>\n",
       "      <td>0</td>\n",
       "      <td>0</td>\n",
       "      <td>...</td>\n",
       "      <td>26</td>\n",
       "      <td>0.10</td>\n",
       "      <td>0.05</td>\n",
       "      <td>0.00</td>\n",
       "      <td>0.00</td>\n",
       "      <td>1.00</td>\n",
       "      <td>1.00</td>\n",
       "      <td>0.00</td>\n",
       "      <td>0.00</td>\n",
       "      <td>dos</td>\n",
       "    </tr>\n",
       "    <tr>\n",
       "      <th>3</th>\n",
       "      <td>0</td>\n",
       "      <td>icmp</td>\n",
       "      <td>25</td>\n",
       "      <td>2</td>\n",
       "      <td>232</td>\n",
       "      <td>8153</td>\n",
       "      <td>0</td>\n",
       "      <td>0</td>\n",
       "      <td>0</td>\n",
       "      <td>0</td>\n",
       "      <td>...</td>\n",
       "      <td>255</td>\n",
       "      <td>1.00</td>\n",
       "      <td>0.00</td>\n",
       "      <td>0.03</td>\n",
       "      <td>0.04</td>\n",
       "      <td>0.03</td>\n",
       "      <td>0.01</td>\n",
       "      <td>0.00</td>\n",
       "      <td>0.01</td>\n",
       "      <td>normal</td>\n",
       "    </tr>\n",
       "    <tr>\n",
       "      <th>4</th>\n",
       "      <td>0</td>\n",
       "      <td>icmp</td>\n",
       "      <td>25</td>\n",
       "      <td>2</td>\n",
       "      <td>199</td>\n",
       "      <td>420</td>\n",
       "      <td>0</td>\n",
       "      <td>0</td>\n",
       "      <td>0</td>\n",
       "      <td>0</td>\n",
       "      <td>...</td>\n",
       "      <td>255</td>\n",
       "      <td>1.00</td>\n",
       "      <td>0.00</td>\n",
       "      <td>0.00</td>\n",
       "      <td>0.00</td>\n",
       "      <td>0.00</td>\n",
       "      <td>0.00</td>\n",
       "      <td>0.00</td>\n",
       "      <td>0.00</td>\n",
       "      <td>normal</td>\n",
       "    </tr>\n",
       "  </tbody>\n",
       "</table>\n",
       "<p>5 rows × 42 columns</p>\n",
       "</div>"
      ],
      "text/plain": [
       "   duration protocol_type  service  flag  src_bytes  dst_bytes  land  \\\n",
       "0         0          icmp       20     2        491          0     0   \n",
       "1         0           udp       45     2        146          0     0   \n",
       "2         0          icmp       50     4          0          0     0   \n",
       "3         0          icmp       25     2        232       8153     0   \n",
       "4         0          icmp       25     2        199        420     0   \n",
       "\n",
       "   wrong_fragment  urgent  hot  ...  dst_host_srv_count  \\\n",
       "0               0       0    0  ...                  25   \n",
       "1               0       0    0  ...                   1   \n",
       "2               0       0    0  ...                  26   \n",
       "3               0       0    0  ...                 255   \n",
       "4               0       0    0  ...                 255   \n",
       "\n",
       "   dst_host_same_srv_rate  dst_host_diff_srv_rate  \\\n",
       "0                    0.17                    0.03   \n",
       "1                    0.00                    0.60   \n",
       "2                    0.10                    0.05   \n",
       "3                    1.00                    0.00   \n",
       "4                    1.00                    0.00   \n",
       "\n",
       "   dst_host_same_src_port_rate  dst_host_srv_diff_host_rate  \\\n",
       "0                         0.17                         0.00   \n",
       "1                         0.88                         0.00   \n",
       "2                         0.00                         0.00   \n",
       "3                         0.03                         0.04   \n",
       "4                         0.00                         0.00   \n",
       "\n",
       "   dst_host_serror_rate  dst_host_srv_serror_rate  dst_host_rerror_rate  \\\n",
       "0                  0.00                      0.00                  0.05   \n",
       "1                  0.00                      0.00                  0.00   \n",
       "2                  1.00                      1.00                  0.00   \n",
       "3                  0.03                      0.01                  0.00   \n",
       "4                  0.00                      0.00                  0.00   \n",
       "\n",
       "   dst_host_srv_rerror_rate  xAttack  \n",
       "0                      0.00   normal  \n",
       "1                      0.00   normal  \n",
       "2                      0.00      dos  \n",
       "3                      0.01   normal  \n",
       "4                      0.00   normal  \n",
       "\n",
       "[5 rows x 42 columns]"
      ]
     },
     "execution_count": 77,
     "metadata": {},
     "output_type": "execute_result"
    }
   ],
   "source": [
    "df_intrusion.head()"
   ]
  },
  {
   "cell_type": "code",
   "execution_count": 78,
   "metadata": {},
   "outputs": [
    {
     "data": {
      "text/plain": [
       "Index(['duration', 'protocol_type', 'service', 'flag', 'src_bytes',\n",
       "       'dst_bytes', 'land', 'wrong_fragment', 'urgent', 'hot',\n",
       "       'num_failed_logins', 'logged_in', 'num_compromised', 'root_shell',\n",
       "       'su_attempted', 'num_root', 'num_file_creations', 'num_shells',\n",
       "       'num_access_files', 'num_outbound_cmds', 'is_host_login',\n",
       "       'is_guest_login', 'count', 'srv_count', 'serror_rate',\n",
       "       'srv_serror_rate', 'rerror_rate', 'srv_rerror_rate', 'same_srv_rate',\n",
       "       'diff_srv_rate', 'srv_diff_host_rate', 'dst_host_count',\n",
       "       'dst_host_srv_count', 'dst_host_same_srv_rate',\n",
       "       'dst_host_diff_srv_rate', 'dst_host_same_src_port_rate',\n",
       "       'dst_host_srv_diff_host_rate', 'dst_host_serror_rate',\n",
       "       'dst_host_srv_serror_rate', 'dst_host_rerror_rate',\n",
       "       'dst_host_srv_rerror_rate', 'xAttack'],\n",
       "      dtype='object')"
      ]
     },
     "execution_count": 78,
     "metadata": {},
     "output_type": "execute_result"
    }
   ],
   "source": [
    "df_intrusion.columns"
   ]
  },
  {
   "cell_type": "code",
   "execution_count": 79,
   "metadata": {},
   "outputs": [
    {
     "data": {
      "text/plain": [
       "<seaborn.axisgrid.FacetGrid at 0x1b42e21b988>"
      ]
     },
     "execution_count": 79,
     "metadata": {},
     "output_type": "execute_result"
    },
    {
     "data": {
      "image/png": "[encoded data removed]",
      "text/plain": [
       "<Figure size 360x360 with 1 Axes>"
      ]
     },
     "metadata": {
      "needs_background": "light"
     },
     "output_type": "display_data"
    }
   ],
   "source": [
    "chart = sns.catplot(\n",
    "    data=df_intrusion,\n",
    "    kind='count',\n",
    "    x='xAttack'\n",
    ")\n",
    "chart.set_xticklabels(rotation=65, horizontalalignment='right')"
   ]
  },
  {
   "cell_type": "code",
   "execution_count": 80,
   "metadata": {},
   "outputs": [
    {
     "data": {
      "text/plain": [
       "<seaborn.axisgrid.FacetGrid at 0x1b42103a888>"
      ]
     },
     "execution_count": 80,
     "metadata": {},
     "output_type": "execute_result"
    },
    {
     "data": {
      "image/png": "[encoded data removed]",
      "text/plain": [
       "<Figure size 360x360 with 1 Axes>"
      ]
     },
     "metadata": {
      "needs_background": "light"
     },
     "output_type": "display_data"
    }
   ],
   "source": [
    "chart = sns.catplot(\n",
    "    data=df_intrusion,\n",
    "    kind='count',\n",
    "    x='protocol_type'\n",
    ")\n",
    "chart.set_xticklabels(rotation=65, horizontalalignment='right')"
   ]
  },
  {
   "cell_type": "code",
   "execution_count": 81,
   "metadata": {},
   "outputs": [
    {
     "data": {
      "text/plain": [
       "<seaborn.axisgrid.FacetGrid at 0x1b424f1bd48>"
      ]
     },
     "execution_count": 81,
     "metadata": {},
     "output_type": "execute_result"
    },
    {
     "data": {
      "image/png": "[encoded data removed]",
      "text/plain": [
       "<Figure size 360x360 with 1 Axes>"
      ]
     },
     "metadata": {
      "needs_background": "light"
     },
     "output_type": "display_data"
    }
   ],
   "source": [
    "chart = sns.catplot(\n",
    "    data=df_intrusion,\n",
    "    kind='count',\n",
    "    x='service'\n",
    ")\n",
    "chart.set_xticklabels(rotation=65, horizontalalignment='right')"
   ]
  },
  {
   "cell_type": "code",
   "execution_count": 82,
   "metadata": {},
   "outputs": [
    {
     "data": {
      "text/plain": [
       "<seaborn.axisgrid.FacetGrid at 0x1b425472608>"
      ]
     },
     "execution_count": 82,
     "metadata": {},
     "output_type": "execute_result"
    },
    {
     "data": {
      "image/png": "[encoded data removed]",
      "text/plain": [
       "<Figure size 360x360 with 1 Axes>"
      ]
     },
     "metadata": {
      "needs_background": "light"
     },
     "output_type": "display_data"
    }
   ],
   "source": [
    "chart = sns.catplot(\n",
    "    data=df_intrusion,\n",
    "    kind='count',\n",
    "    x='flag'\n",
    ")\n",
    "chart.set_xticklabels(rotation=65, horizontalalignment='right')"
   ]
  },
  {
   "cell_type": "code",
   "execution_count": 83,
   "metadata": {},
   "outputs": [
    {
     "data": {
      "text/plain": [
       "<matplotlib.axes._subplots.AxesSubplot at 0x1b429ebf388>"
      ]
     },
     "execution_count": 83,
     "metadata": {},
     "output_type": "execute_result"
    },
    {
     "data": {
      "image/png": "[encoded data removed]",
      "text/plain": [
       "<Figure size 792x648 with 2 Axes>"
      ]
     },
     "metadata": {
      "needs_background": "light"
     },
     "output_type": "display_data"
    }
   ],
   "source": [
    "# Show the correlation between the various factors\n",
    "\n",
    "import numpy as np\n",
    "\n",
    "# Compute the correlation matrix\n",
    "corr = df_intrusion.corr()\n",
    "\n",
    "# Generate a mask for the upper triangle\n",
    "mask = np.triu(np.ones_like(corr, dtype=np.bool))\n",
    "\n",
    "# Set up the matplotlib figure\n",
    "f, ax = plt.subplots(figsize=(11, 9))\n",
    "\n",
    "# Generate a custom diverging colormap\n",
    "cmap = sns.diverging_palette(220, 10, as_cmap=True)\n",
    "\n",
    "# Draw the heatmap with the mask and correct aspect ratio\n",
    "sns.heatmap(corr, mask=mask, cmap=cmap, vmax=.3, center=0,\n",
    "            square=True, linewidths=.5, cbar_kws={\"shrink\": .5})"
   ]
  },
  {
   "cell_type": "code",
   "execution_count": 84,
   "metadata": {},
   "outputs": [
    {
     "name": "stdout",
     "output_type": "stream",
     "text": [
      "<class 'pandas.core.frame.DataFrame'>\n",
      "RangeIndex: 125973 entries, 0 to 125972\n",
      "Data columns (total 42 columns):\n",
      " #   Column                       Non-Null Count   Dtype  \n",
      "---  ------                       --------------   -----  \n",
      " 0   duration                     125973 non-null  int64  \n",
      " 1   protocol_type                125973 non-null  object \n",
      " 2   service                      125973 non-null  int64  \n",
      " 3   flag                         125973 non-null  int64  \n",
      " 4   src_bytes                    125973 non-null  int64  \n",
      " 5   dst_bytes                    125973 non-null  int64  \n",
      " 6   land                         125973 non-null  int64  \n",
      " 7   wrong_fragment               125973 non-null  int64  \n",
      " 8   urgent                       125973 non-null  int64  \n",
      " 9   hot                          125973 non-null  int64  \n",
      " 10  num_failed_logins            125973 non-null  int64  \n",
      " 11  logged_in                    125973 non-null  int64  \n",
      " 12  num_compromised              125973 non-null  int64  \n",
      " 13  root_shell                   125973 non-null  int64  \n",
      " 14  su_attempted                 125973 non-null  int64  \n",
      " 15  num_root                     125973 non-null  int64  \n",
      " 16  num_file_creations           125973 non-null  int64  \n",
      " 17  num_shells                   125973 non-null  int64  \n",
      " 18  num_access_files             125973 non-null  int64  \n",
      " 19  num_outbound_cmds            125973 non-null  int64  \n",
      " 20  is_host_login                125973 non-null  int64  \n",
      " 21  is_guest_login               125973 non-null  int64  \n",
      " 22  count                        125973 non-null  int64  \n",
      " 23  srv_count                    125973 non-null  int64  \n",
      " 24  serror_rate                  125973 non-null  float64\n",
      " 25  srv_serror_rate              125973 non-null  float64\n",
      " 26  rerror_rate                  125973 non-null  float64\n",
      " 27  srv_rerror_rate              125973 non-null  float64\n",
      " 28  same_srv_rate                125973 non-null  float64\n",
      " 29  diff_srv_rate                125973 non-null  float64\n",
      " 30  srv_diff_host_rate           125973 non-null  float64\n",
      " 31  dst_host_count               125973 non-null  int64  \n",
      " 32  dst_host_srv_count           125973 non-null  int64  \n",
      " 33  dst_host_same_srv_rate       125973 non-null  float64\n",
      " 34  dst_host_diff_srv_rate       125973 non-null  float64\n",
      " 35  dst_host_same_src_port_rate  125973 non-null  float64\n",
      " 36  dst_host_srv_diff_host_rate  125973 non-null  float64\n",
      " 37  dst_host_serror_rate         125973 non-null  float64\n",
      " 38  dst_host_srv_serror_rate     125973 non-null  float64\n",
      " 39  dst_host_rerror_rate         125973 non-null  float64\n",
      " 40  dst_host_srv_rerror_rate     125973 non-null  float64\n",
      " 41  xAttack                      125973 non-null  object \n",
      "dtypes: float64(15), int64(25), object(2)\n",
      "memory usage: 40.4+ MB\n"
     ]
    }
   ],
   "source": [
    "df_intrusion.info()"
   ]
  },
  {
   "cell_type": "code",
   "execution_count": 85,
   "metadata": {},
   "outputs": [],
   "source": [
    "df_intrusion.protocol_type= [1 if each == \"icmp\"\n",
    "                               else 2 if each == \"udp\" \n",
    "                               else 0 \n",
    "                               for each in df_intrusion.protocol_type]\n",
    "\n",
    "df_intrusion.xAttack= [1 if each == \"dos\"\n",
    "                               else 2 if each == \"probe\" \n",
    "                               else 3 if each == \"u2r\"\n",
    "                               else 4 if each == \"r2l\"\n",
    "                               else 0 \n",
    "                               for each in df_intrusion.xAttack]\n"
   ]
  },
  {
   "cell_type": "code",
   "execution_count": 86,
   "metadata": {},
   "outputs": [],
   "source": [
    "df_intrusion_t = pd.read_csv('test_data.csv')"
   ]
  },
  {
   "cell_type": "code",
   "execution_count": 87,
   "metadata": {},
   "outputs": [
    {
     "name": "stdout",
     "output_type": "stream",
     "text": [
      "<class 'pandas.core.frame.DataFrame'>\n",
      "RangeIndex: 10000 entries, 0 to 9999\n",
      "Data columns (total 43 columns):\n",
      " #   Column                       Non-Null Count  Dtype  \n",
      "---  ------                       --------------  -----  \n",
      " 0   Unnamed: 0                   10000 non-null  int64  \n",
      " 1   duration                     10000 non-null  int64  \n",
      " 2   protocol_type                10000 non-null  object \n",
      " 3   service                      10000 non-null  int64  \n",
      " 4   flag                         10000 non-null  int64  \n",
      " 5   src_bytes                    10000 non-null  int64  \n",
      " 6   dst_bytes                    10000 non-null  int64  \n",
      " 7   land                         10000 non-null  int64  \n",
      " 8   wrong_fragment               10000 non-null  int64  \n",
      " 9   urgent                       10000 non-null  int64  \n",
      " 10  hot                          10000 non-null  int64  \n",
      " 11  num_failed_logins            10000 non-null  int64  \n",
      " 12  logged_in                    10000 non-null  int64  \n",
      " 13  num_compromised              10000 non-null  int64  \n",
      " 14  root_shell                   10000 non-null  int64  \n",
      " 15  su_attempted                 10000 non-null  int64  \n",
      " 16  num_root                     10000 non-null  int64  \n",
      " 17  num_file_creations           10000 non-null  int64  \n",
      " 18  num_shells                   10000 non-null  int64  \n",
      " 19  num_access_files             10000 non-null  int64  \n",
      " 20  num_outbound_cmds            10000 non-null  int64  \n",
      " 21  is_host_login                10000 non-null  int64  \n",
      " 22  is_guest_login               10000 non-null  int64  \n",
      " 23  count                        10000 non-null  int64  \n",
      " 24  srv_count                    10000 non-null  int64  \n",
      " 25  serror_rate                  10000 non-null  float64\n",
      " 26  srv_serror_rate              10000 non-null  float64\n",
      " 27  rerror_rate                  10000 non-null  float64\n",
      " 28  srv_rerror_rate              10000 non-null  float64\n",
      " 29  same_srv_rate                10000 non-null  float64\n",
      " 30  diff_srv_rate                10000 non-null  float64\n",
      " 31  srv_diff_host_rate           10000 non-null  float64\n",
      " 32  dst_host_count               10000 non-null  int64  \n",
      " 33  dst_host_srv_count           10000 non-null  int64  \n",
      " 34  dst_host_same_srv_rate       10000 non-null  float64\n",
      " 35  dst_host_diff_srv_rate       10000 non-null  float64\n",
      " 36  dst_host_same_src_port_rate  10000 non-null  float64\n",
      " 37  dst_host_srv_diff_host_rate  10000 non-null  float64\n",
      " 38  dst_host_serror_rate         10000 non-null  float64\n",
      " 39  dst_host_srv_serror_rate     10000 non-null  float64\n",
      " 40  dst_host_rerror_rate         10000 non-null  float64\n",
      " 41  dst_host_srv_rerror_rate     10000 non-null  float64\n",
      " 42  xAttack                      10000 non-null  object \n",
      "dtypes: float64(15), int64(26), object(2)\n",
      "memory usage: 3.3+ MB\n"
     ]
    }
   ],
   "source": [
    "df_intrusion_t.info()"
   ]
  },
  {
   "cell_type": "code",
   "execution_count": 88,
   "metadata": {},
   "outputs": [],
   "source": [
    "df_intrusion_t=df_intrusion_t.drop([\"Unnamed: 0\"], axis=1)"
   ]
  },
  {
   "cell_type": "code",
   "execution_count": 89,
   "metadata": {},
   "outputs": [
    {
     "name": "stdout",
     "output_type": "stream",
     "text": [
      "<class 'pandas.core.frame.DataFrame'>\n",
      "RangeIndex: 10000 entries, 0 to 9999\n",
      "Data columns (total 42 columns):\n",
      " #   Column                       Non-Null Count  Dtype  \n",
      "---  ------                       --------------  -----  \n",
      " 0   duration                     10000 non-null  int64  \n",
      " 1   protocol_type                10000 non-null  object \n",
      " 2   service                      10000 non-null  int64  \n",
      " 3   flag                         10000 non-null  int64  \n",
      " 4   src_bytes                    10000 non-null  int64  \n",
      " 5   dst_bytes                    10000 non-null  int64  \n",
      " 6   land                         10000 non-null  int64  \n",
      " 7   wrong_fragment               10000 non-null  int64  \n",
      " 8   urgent                       10000 non-null  int64  \n",
      " 9   hot                          10000 non-null  int64  \n",
      " 10  num_failed_logins            10000 non-null  int64  \n",
      " 11  logged_in                    10000 non-null  int64  \n",
      " 12  num_compromised              10000 non-null  int64  \n",
      " 13  root_shell                   10000 non-null  int64  \n",
      " 14  su_attempted                 10000 non-null  int64  \n",
      " 15  num_root                     10000 non-null  int64  \n",
      " 16  num_file_creations           10000 non-null  int64  \n",
      " 17  num_shells                   10000 non-null  int64  \n",
      " 18  num_access_files             10000 non-null  int64  \n",
      " 19  num_outbound_cmds            10000 non-null  int64  \n",
      " 20  is_host_login                10000 non-null  int64  \n",
      " 21  is_guest_login               10000 non-null  int64  \n",
      " 22  count                        10000 non-null  int64  \n",
      " 23  srv_count                    10000 non-null  int64  \n",
      " 24  serror_rate                  10000 non-null  float64\n",
      " 25  srv_serror_rate              10000 non-null  float64\n",
      " 26  rerror_rate                  10000 non-null  float64\n",
      " 27  srv_rerror_rate              10000 non-null  float64\n",
      " 28  same_srv_rate                10000 non-null  float64\n",
      " 29  diff_srv_rate                10000 non-null  float64\n",
      " 30  srv_diff_host_rate           10000 non-null  float64\n",
      " 31  dst_host_count               10000 non-null  int64  \n",
      " 32  dst_host_srv_count           10000 non-null  int64  \n",
      " 33  dst_host_same_srv_rate       10000 non-null  float64\n",
      " 34  dst_host_diff_srv_rate       10000 non-null  float64\n",
      " 35  dst_host_same_src_port_rate  10000 non-null  float64\n",
      " 36  dst_host_srv_diff_host_rate  10000 non-null  float64\n",
      " 37  dst_host_serror_rate         10000 non-null  float64\n",
      " 38  dst_host_srv_serror_rate     10000 non-null  float64\n",
      " 39  dst_host_rerror_rate         10000 non-null  float64\n",
      " 40  dst_host_srv_rerror_rate     10000 non-null  float64\n",
      " 41  xAttack                      10000 non-null  object \n",
      "dtypes: float64(15), int64(25), object(2)\n",
      "memory usage: 3.2+ MB\n"
     ]
    }
   ],
   "source": [
    "df_intrusion_t.info()"
   ]
  },
  {
   "cell_type": "code",
   "execution_count": 90,
   "metadata": {},
   "outputs": [
    {
     "data": {
      "text/plain": [
       "array([25, 20, 29, 48, 50, 61, 45, 12, 55, 24, 19, 15, 32, 16, 58,  3, 52,\n",
       "       69, 37, 34, 67, 10,  6, 64, 36,  7, 44,  5, 30, 14, 46,  8, 38, 22,\n",
       "       39, 11, 17, 70, 56, 47, 41, 33, 59, 18, 42, 57, 54,  9, 53,  1, 40,\n",
       "       31, 60, 43, 35, 63, 49, 66,  2], dtype=int64)"
      ]
     },
     "execution_count": 90,
     "metadata": {},
     "output_type": "execute_result"
    }
   ],
   "source": [
    "df_intrusion_t['service'].unique()"
   ]
  },
  {
   "cell_type": "code",
   "execution_count": 91,
   "metadata": {},
   "outputs": [
    {
     "data": {
      "text/plain": [
       "array(['dos', 'normal', 'probe', 'r2l', 'u2r'], dtype=object)"
      ]
     },
     "execution_count": 91,
     "metadata": {},
     "output_type": "execute_result"
    }
   ],
   "source": [
    "df_intrusion_t['xAttack'].unique()"
   ]
  },
  {
   "cell_type": "code",
   "execution_count": 92,
   "metadata": {},
   "outputs": [],
   "source": [
    "df_intrusion_t.protocol_type= [1 if each == \"icmp\"\n",
    "                               else 2 if each == \"udp\" \n",
    "                               else 0 \n",
    "                               for each in df_intrusion_t.protocol_type]\n",
    "df_intrusion_t.xAttack= [1 if each == \"dos\"\n",
    "                               else 2 if each == \"probe\" \n",
    "                               else 3 if each == \"u2r\"\n",
    "                               else 4 if each == \"r2l\"\n",
    "                               else 0 \n",
    "                               for each in df_intrusion_t.xAttack]\n"
   ]
  },
  {
   "cell_type": "code",
   "execution_count": 93,
   "metadata": {},
   "outputs": [],
   "source": [
    "# Create two pandas arrays -- one for X and one for Y to get ready \n",
    "# for neural network\n",
    "\n",
    "# convert the array into a numpy array\n",
    "arr_train = df_intrusion.to_numpy()\n",
    "arr_test = df_intrusion_t.to_numpy()\n",
    "\n",
    "# separate X and Y\n",
    "X_train = arr_train[:,0:41]\n",
    "Y_train = arr_train[:,41]\n",
    "\n",
    "\n",
    "# separate X and Y\n",
    "X_test = arr_test[:,0:41]\n",
    "Y_test = arr_test[:,41]"
   ]
  },
  {
   "cell_type": "code",
   "execution_count": 94,
   "metadata": {},
   "outputs": [
    {
     "data": {
      "text/plain": [
       "array([[0.0e+00, 1.0e+00, 2.0e+01, ..., 0.0e+00, 5.0e-02, 0.0e+00],\n",
       "       [0.0e+00, 2.0e+00, 4.5e+01, ..., 0.0e+00, 0.0e+00, 0.0e+00],\n",
       "       [0.0e+00, 1.0e+00, 5.0e+01, ..., 1.0e+00, 0.0e+00, 0.0e+00],\n",
       "       ...,\n",
       "       [0.0e+00, 1.0e+00, 5.5e+01, ..., 0.0e+00, 1.0e-02, 0.0e+00],\n",
       "       [0.0e+00, 1.0e+00, 3.1e+01, ..., 1.0e+00, 0.0e+00, 0.0e+00],\n",
       "       [0.0e+00, 1.0e+00, 2.0e+01, ..., 0.0e+00, 0.0e+00, 0.0e+00]])"
      ]
     },
     "execution_count": 94,
     "metadata": {},
     "output_type": "execute_result"
    }
   ],
   "source": [
    "X_train"
   ]
  },
  {
   "cell_type": "code",
   "execution_count": 95,
   "metadata": {},
   "outputs": [
    {
     "data": {
      "text/plain": [
       "array([0., 0., 1., ..., 0., 1., 0.])"
      ]
     },
     "execution_count": 95,
     "metadata": {},
     "output_type": "execute_result"
    }
   ],
   "source": [
    "Y_train"
   ]
  },
  {
   "cell_type": "code",
   "execution_count": 96,
   "metadata": {},
   "outputs": [
    {
     "data": {
      "text/plain": [
       "array([[  0.  ,   1.  ,  25.  , ...,   0.65,   0.32,   0.32],\n",
       "       [  0.  ,   1.  ,  25.  , ...,   0.  ,   0.  ,   0.  ],\n",
       "       [  0.  ,   1.  ,  25.  , ...,   0.  ,   0.  ,   0.  ],\n",
       "       ...,\n",
       "       [  0.  ,   2.  ,  50.  , ...,   0.  ,   0.  ,   0.  ],\n",
       "       [  0.  ,   1.  ,  25.  , ...,   0.  ,   0.  ,   0.  ],\n",
       "       [282.  ,   1.  ,  20.  , ...,   0.  ,   0.82,   0.  ]])"
      ]
     },
     "execution_count": 96,
     "metadata": {},
     "output_type": "execute_result"
    }
   ],
   "source": [
    "X_test"
   ]
  },
  {
   "cell_type": "code",
   "execution_count": 97,
   "metadata": {},
   "outputs": [
    {
     "data": {
      "text/plain": [
       "array([1., 0., 0., ..., 0., 0., 4.])"
      ]
     },
     "execution_count": 97,
     "metadata": {},
     "output_type": "execute_result"
    }
   ],
   "source": [
    "Y_test"
   ]
  },
  {
   "cell_type": "code",
   "execution_count": 98,
   "metadata": {},
   "outputs": [],
   "source": [
    "# Prepare Y values for one-hot encoding\n",
    "\n",
    "from sklearn.preprocessing import LabelEncoder\n",
    "from keras.utils import np_utils\n",
    "\n",
    "# # encode class values as integers\n",
    "# encoder = LabelEncoder()\n",
    "# encoder.fit(X_train[:])\n",
    "# encoded_X_train= encoder.transform(X_train)\n",
    "# # convert integers to dummy variables (i.e. one hot encoded)\n",
    "# dummy_X_train = np_utils.to_categorical(encoded_X_train)\n",
    "\n",
    "\n",
    "# encode class values as integers\n",
    "encoder = LabelEncoder()\n",
    "encoder.fit(Y_train)\n",
    "encoded_Y_train= encoder.transform(Y_train)\n",
    "# convert integers to dummy variables (i.e. one hot encoded)\n",
    "dummy_y_train = np_utils.to_categorical(encoded_Y_train)\n",
    "\n",
    "\n",
    "# encode class values as integers\n",
    "encoder = LabelEncoder()\n",
    "encoder.fit(Y_test)\n",
    "encoded_Y_test= encoder.transform(Y_test)\n",
    "# convert integers to dummy variables (i.e. one hot encoded)\n",
    "dummy_y_Test = np_utils.to_categorical(encoded_Y_test)\n",
    "\n"
   ]
  },
  {
   "cell_type": "code",
   "execution_count": 99,
   "metadata": {},
   "outputs": [
    {
     "data": {
      "text/plain": [
       "array([[1., 0., 0., 0., 0.],\n",
       "       [1., 0., 0., 0., 0.],\n",
       "       [0., 1., 0., 0., 0.],\n",
       "       ...,\n",
       "       [1., 0., 0., 0., 0.],\n",
       "       [0., 1., 0., 0., 0.],\n",
       "       [1., 0., 0., 0., 0.]], dtype=float32)"
      ]
     },
     "execution_count": 99,
     "metadata": {},
     "output_type": "execute_result"
    }
   ],
   "source": [
    "dummy_y_train"
   ]
  },
  {
   "cell_type": "code",
   "execution_count": 100,
   "metadata": {},
   "outputs": [
    {
     "data": {
      "text/plain": [
       "array([1., 0., 0., ..., 0., 0., 4.])"
      ]
     },
     "execution_count": 100,
     "metadata": {},
     "output_type": "execute_result"
    }
   ],
   "source": [
    "Y_test"
   ]
  },
  {
   "cell_type": "code",
   "execution_count": 101,
   "metadata": {},
   "outputs": [
    {
     "data": {
      "text/plain": [
       "array([0., 0., 1., ..., 0., 1., 0.])"
      ]
     },
     "execution_count": 101,
     "metadata": {},
     "output_type": "execute_result"
    }
   ],
   "source": [
    "Y_train"
   ]
  },
  {
   "cell_type": "code",
   "execution_count": 102,
   "metadata": {},
   "outputs": [
    {
     "data": {
      "text/plain": [
       "<matplotlib.axes._subplots.AxesSubplot at 0x1b4294a50c8>"
      ]
     },
     "execution_count": 102,
     "metadata": {},
     "output_type": "execute_result"
    },
    {
     "data": {
      "image/png": "[encoded data removed]",
      "text/plain": [
       "<Figure size 792x648 with 2 Axes>"
      ]
     },
     "metadata": {
      "needs_background": "light"
     },
     "output_type": "display_data"
    }
   ],
   "source": [
    "# Show the correlation between the various factors\n",
    "\n",
    "import numpy as np\n",
    "\n",
    "# Compute the correlation matrix\n",
    "corr = df_intrusion.corr()\n",
    "\n",
    "# Generate a mask for the upper triangle\n",
    "mask = np.triu(np.ones_like(corr, dtype=np.bool))\n",
    "\n",
    "# Set up the matplotlib figure\n",
    "f, ax = plt.subplots(figsize=(11, 9))\n",
    "\n",
    "# Generate a custom diverging colormap\n",
    "cmap = sns.diverging_palette(220, 10, as_cmap=True)\n",
    "\n",
    "# Draw the heatmap with the mask and correct aspect ratio\n",
    "sns.heatmap(corr, mask=mask, cmap=cmap, vmax=.3, center=0,\n",
    "            square=True, linewidths=.5, cbar_kws={\"shrink\": .5})"
   ]
  },
  {
   "cell_type": "code",
   "execution_count": 103,
   "metadata": {},
   "outputs": [
    {
     "data": {
      "text/plain": [
       "(125973, 41)"
      ]
     },
     "execution_count": 103,
     "metadata": {},
     "output_type": "execute_result"
    }
   ],
   "source": [
    "X_train.shape"
   ]
  },
  {
   "cell_type": "code",
   "execution_count": 104,
   "metadata": {},
   "outputs": [
    {
     "data": {
      "text/plain": [
       "(125973,)"
      ]
     },
     "execution_count": 104,
     "metadata": {},
     "output_type": "execute_result"
    }
   ],
   "source": [
    "Y_train.shape"
   ]
  },
  {
   "cell_type": "code",
   "execution_count": 105,
   "metadata": {},
   "outputs": [],
   "source": [
    "## This is taken from https://github.com/greentfrapp/keras-aae\n",
    "## this codes uses an adversarial autoencoder to encode and \n",
    "## reconstruct the MNIST images \n",
    "\n",
    "\n",
    "from __future__ import print_function\n",
    "try:\n",
    "    raw_input\n",
    "except:\n",
    "    raw_input = input"
   ]
  },
  {
   "cell_type": "code",
   "execution_count": 106,
   "metadata": {},
   "outputs": [],
   "source": [
    "import numpy as np\n",
    "from keras.models import Sequential, Model, load_model\n",
    "from keras.layers import Input, Dense\n",
    "from keras.utils import plot_model\n",
    "from keras.datasets import mnist\n",
    "from keras.optimizers import Adam\n",
    "import argparse\n",
    "import matplotlib.pyplot as plt\n",
    "from matplotlib import gridspec, colors\n",
    "from datetime import datetime\n",
    "from sklearn.manifold import TSNE"
   ]
  },
  {
   "cell_type": "code",
   "execution_count": 122,
   "metadata": {},
   "outputs": [],
   "source": [
    "# General\n",
    "flag_adversarial=True\n",
    "flag_train =  False\n",
    "flag_reconstruct=False\n",
    "flag_generate=False\n",
    "flag_generate_grid=False\n",
    "flag_plot=False\n",
    "latent_dim= 16 #was 2\n",
    "\n",
    "# Train\n",
    "epochs=50\n",
    "train_samples=10000\n",
    "batchsize =100 #was 100\n",
    "\n",
    "# Test\n",
    "test_samples=10000\n",
    "latent_vec= []"
   ]
  },
  {
   "cell_type": "code",
   "execution_count": 123,
   "metadata": {},
   "outputs": [],
   "source": [
    "# input dimension is the number of input variables\n",
    "# latent dimension is the number of variables in the latent dimension\n",
    "\n",
    "def create_model(input_dim, latent_dim, verbose=False, save_graph=False):\n",
    "\n",
    "    autoencoder_input = Input(shape=(input_dim,))\n",
    "    generator_input = Input(shape=(input_dim,))\n",
    "\n",
    "    # encoder goes only has two layers of 1000 elements each\n",
    "    encoder = Sequential()\n",
    "    encoder.add(Dense(1000, input_shape=(input_dim,), activation='relu'))\n",
    "    encoder.add(Dense(1000, activation='relu'))\n",
    "    encoder.add(Dense(latent_dim, activation=None))\n",
    "\n",
    "    #decoder also has two layers and the output is sigmoid. \n",
    "    decoder = Sequential()\n",
    "    decoder.add(Dense(1000, input_shape=(latent_dim,), activation='relu'))\n",
    "    decoder.add(Dense(1000, activation='relu'))\n",
    "    decoder.add(Dense(input_dim, activation='sigmoid'))\n",
    "\n",
    "    # for adversarial, we a discriminator that tells apart a 'guassian' from \n",
    "    # non-guassian. \n",
    "    # Input is the latent dimensional size\n",
    "    # generator network tries to generate fake images to fool discriminator \n",
    "    # and discriminator tries to discriminate fake and real images correctly.\n",
    "    \n",
    "    if flag_adversarial:\n",
    "        discriminator = Sequential()\n",
    "        discriminator.add(Dense(1000, input_shape=(latent_dim,), activation='relu'))\n",
    "        discriminator.add(Dense(1000, activation='relu'))\n",
    "        discriminator.add(Dense(1, activation='sigmoid'))\n",
    "        \n",
    "    \n",
    "    # autoencoder takes autoencoder_input and builds a model through \n",
    "    # composing the two models. Output of encoder is passed on to the input \n",
    "    # of decoder. \n",
    "    \n",
    "    autoencoder = Model(autoencoder_input, decoder(encoder(autoencoder_input)))\n",
    "    autoencoder.compile(optimizer=Adam(lr=1e-4), loss=\"mean_squared_error\")\n",
    "\n",
    "    # the discriminator is initially not trainable. Takes the generator input \n",
    "    # and takes the encoding with the generated input and sends it to the \n",
    "    # discriminator. \n",
    "    \n",
    "    if flag_adversarial:\n",
    "        \n",
    "        \n",
    "        # compile with binary crossentripy because this discrminator \n",
    "        # will get one batch of latent embeddings and one batch of uniformly distributed\n",
    "        # data and will try to find weights to separate them from each other.\n",
    "        discriminator.compile(optimizer=Adam(lr=1e-4), loss=\"binary_crossentropy\")\n",
    "        \n",
    "        # compiled already so discriminator weights will change.\n",
    "        # however any one else using discriminitor from now on will have \n",
    "        # frozen weights. \n",
    "        \n",
    "        # The discriminator takes uniformally distributed input and encodes it \n",
    "        # and then runs it through the discriminator.  So with frozen discriminator\n",
    "        # weights, the generator will try to change the weights of the encoder \n",
    "        # so that encoded input begins to look the same as the generator input\n",
    "        # generator network tries to generate fake images to fool discriminator \n",
    "        # and discriminator tries to discriminate fake and real images correctly.\n",
    "        discriminator.trainable = False\n",
    "        generator = Model(generator_input, discriminator(encoder(generator_input)))\n",
    "        generator.compile(optimizer=Adam(lr=1e-4), loss=\"binary_crossentropy\")\n",
    "\n",
    "    if verbose:\n",
    "        print(\"Autoencoder Architecture\")\n",
    "        print(autoencoder.summary())\n",
    "        if flag_adversarial:\n",
    "            print(\"Discriminator Architecture\")\n",
    "            print(discriminator.summary())\n",
    "            print(\"Generator Architecture\")\n",
    "            print(generator.summary())\n",
    "\n",
    "    if flag_save_graph:\n",
    "        plot_model(autoencoder, to_file=\"autoencoder_graph.png\")\n",
    "        if flag_adversarial:\n",
    "            plot_model(discriminator, to_file=\"discriminator_graph.png\")\n",
    "            plot_model(generator, to_file=\"generator_graph.png\")\n",
    "\n",
    "    if flag_adversarial:\n",
    "        return autoencoder, discriminator, generator, encoder, decoder\n",
    "    else:\n",
    "        return autoencoder, None, None, encoder, decoder"
   ]
  },
  {
   "cell_type": "code",
   "execution_count": 124,
   "metadata": {},
   "outputs": [
    {
     "data": {
      "text/plain": [
       "array([[ 2.13370375,  0.18343184],\n",
       "       [-1.07460557,  0.39123886],\n",
       "       [ 0.32127469,  1.76090181],\n",
       "       [-0.93989588,  2.22270614],\n",
       "       [-1.09819752,  0.09819037],\n",
       "       [-0.24385955, -1.28439494],\n",
       "       [-1.17651463, -2.48654691],\n",
       "       [ 0.00568544, -0.32612875],\n",
       "       [-0.1200298 , -0.86680667],\n",
       "       [-0.53110233, -2.24928652]])"
      ]
     },
     "execution_count": 124,
     "metadata": {},
     "output_type": "execute_result"
    }
   ],
   "source": [
    "foo = np.random.randn(10, 2)\n",
    "foo"
   ]
  },
  {
   "cell_type": "code",
   "execution_count": 125,
   "metadata": {},
   "outputs": [],
   "source": [
    "def train(n_samples, batch_size, n_epochs):\n",
    "    global desc\n",
    "    #autoencoder, discriminator, generator, encoder, decoder = create_model(input_dim=784, latent_dim=latent_dim)\n",
    "    autoencoder, discriminator, generator, encoder, decoder = create_model(input_dim=41, latent_dim=latent_dim)\n",
    "    #(x_train, y_train), (x_test, y_test) = mnist.load_data()\n",
    "    x_train = X_train\n",
    "    #print(x_train)\n",
    "    y_train = Y_train\n",
    "    #print(y_train)\n",
    "    x_test = X_test\n",
    "    y_test = Y_test    \n",
    "    \n",
    "    # Get n_samples/10 samples from each class\n",
    "    x_classes = {}\n",
    "    y_classes = {}\n",
    "    for i in np.arange(10): #was 10\n",
    "        #x_classes[i] = x_train[np.where(y_train == i), :, :][0][:int(n_samples / 10), :, :]\n",
    "        x_classes[i] = x_train[np.where(y_train == i)][:int(n_samples / 10)]\n",
    "        y_classes[i] = np.ones(int(n_samples / 10)) * i\n",
    "    x = np.concatenate((list(x_classes.values())))\n",
    "    y = np.concatenate((list(y_classes.values())))\n",
    "    \n",
    "    # convert the image to a single vector of 784 values\n",
    "    #x = x.reshape(-1, 784)\n",
    "    x = x.reshape(-1, 41)\n",
    "    \n",
    "    # normalize the color values\n",
    "    normalize = colors.Normalize(0., 255.)\n",
    "    x = normalize(x)\n",
    "\n",
    "    # Create two random generators\n",
    "    rand_x = np.random.RandomState(42)\n",
    "    rand_y = np.random.RandomState(42)\n",
    "\n",
    "    # for each epoch.\n",
    "    past = datetime.now()\n",
    "    for epoch in np.arange(1, n_epochs + 1):\n",
    "        autoencoder_losses = []\n",
    "        if flag_adversarial:\n",
    "            discriminator_losses = []\n",
    "            generator_losses = []\n",
    "        \n",
    "        # randomly shuffles each x and y \n",
    "        # remember x and y are the same. \n",
    "        rand_x.shuffle(x)\n",
    "        rand_y.shuffle(y)\n",
    "        \n",
    "        \n",
    "        # do for n batches depending on the batchsize\n",
    "        # for 1..#batches\n",
    "        for batch in np.arange(len(x) / batch_size):\n",
    "            \n",
    "            #do for each batch based on index into x\n",
    "            start = int(batch * batch_size)\n",
    "            end = int(start + batch_size)\n",
    "            samples = x[start:end]\n",
    "            \n",
    "            # fit the autoencoder to the batch with a single epoch\n",
    "            # It is an autocoder so input and ouput are the same. \n",
    "            autoencoder_history = autoencoder.fit(x=samples, y=samples, epochs=1, batch_size=batch_size, validation_split=0.0, verbose=0)\n",
    "            \n",
    "          \n",
    "            if flag_adversarial:\n",
    "                \n",
    "                # make a prediction from the encoder on the batch\n",
    "                # fake_latent will have the embedding for each \n",
    "                # element in the bactk\n",
    "                fake_latent = encoder.predict(samples)\n",
    "                #print(fake_latent.size)\n",
    "                \n",
    "                # in input the resulting embedding is the fake latents followed by randomly generated predictions between 0-5\n",
    "                discriminator_input = np.concatenate((fake_latent, np.random.randn(batch_size, latent_dim) * 5.))\n",
    "                \n",
    "                # in labels, the label for fake latent embeddings are zeros while the others are 1.\n",
    "                #discriminator_labels = np.concatenate((np.zeros((batch_size, 1)), np.ones((batch_size, 1))))\n",
    "                discriminator_labels = np.concatenate((np.zeros((int(fake_latent.size/latent_dim), 1)), np.ones((batch_size, 1))))\n",
    "                \n",
    "                # fit the discriminator with discrimiator input and sizes\n",
    "                # notice there is no validation split\n",
    "                # discriminator has sigmoid so gives values between 0 and 1\n",
    "                # is using binary_crossentropy as the loss function\n",
    "                # this will change the weights on the discriminator to force latent input to be normally distributed\n",
    "                #print(discriminator_input.shape)\n",
    "                #print(discriminator_labels.shape)\n",
    "                discriminator_history = discriminator.fit(x=discriminator_input, y=discriminator_labels, epochs=1, batch_size=batch_size, validation_split=0.0, verbose=0)\n",
    "                \n",
    "                # fit the generators to ensure that all the samples go to one.\n",
    "                # the generator is using frozen weights of the discrimitoar from the last step and modifying\n",
    "                # the weights of the encoder to make sure that all inputs go to one. \n",
    "                # generator network tries to generate fake images to fool discriminator \n",
    "                # and discriminator tries to discriminate fake and real images correctly.\n",
    "                #generator_history = generator.fit(x=samples, y=np.ones((batch_size, 1)), epochs=1, batch_size=batch_size, validation_split=0.0, verbose=0)\n",
    "                generator_history = generator.fit(x=samples, y=np.ones((int(fake_latent.size/latent_dim), 1)), epochs=1, batch_size=batch_size, validation_split=0.0, verbose=0)\n",
    "\n",
    "                # we have changed the weights of the encoder (twice), and decoders and discrimintor once.\n",
    "                # take teh new_lantent = encoder.predict(samples) is the input to a classifier \n",
    "                # classifier_history = classifier.fit(x=samples, y=actual_labels, epochs=1, batch_size=batch_size, validation_split=0.0, verbose=0)\n",
    "            \n",
    "            \n",
    "            # update the losses for all\n",
    "            autoencoder_losses.append(autoencoder_history.history[\"loss\"])\n",
    "            if flag_adversarial:\n",
    "                discriminator_losses.append(discriminator_history.history[\"loss\"])\n",
    "                generator_losses.append(generator_history.history[\"loss\"])\n",
    "        \n",
    "        now = datetime.now()\n",
    "        print(\"\\nEpoch {}/{} - {:.1f}s\".format(epoch, n_epochs, (now - past).total_seconds()))\n",
    "        print(\"Autoencoder Loss: {}\".format(np.mean(autoencoder_losses)))\n",
    "        if flag_adversarial:\n",
    "            print(\"Discriminator Loss: {}\".format(np.mean(discriminator_losses)))\n",
    "            print(\"Generator Loss: {}\".format(np.mean(generator_losses)))\n",
    "        past = now\n",
    "\n",
    "        if epoch % 50 == 0:\n",
    "            print(\"\\nSaving models...\")\n",
    "            # autoencoder.save('{}_autoencoder.h5'.format(desc))\n",
    "            encoder.save('{}_encoder.h5'.format(desc))\n",
    "            decoder.save('{}_decoder.h5'.format(desc))\n",
    "            # if adversarial:\n",
    "            # \tdiscriminator.save('{}_discriminator.h5'.format(desc))\n",
    "            # \tgenerator.save('{}_generator.h5'.format(desc))\n",
    "\n",
    "    # autoencoder.save('{}_autoencoder.h5'.format(desc))\n",
    "    encoder.save('{}_encoder.h5'.format(desc))\n",
    "    decoder.save('{}_decoder.h5'.format(desc))\n",
    "    # if adversarial:\n",
    "        # discriminator.save('{}_discriminator.h5'.format(desc))\n",
    "        # generator.save('{}_generator.h5'.format(desc))"
   ]
  },
  {
   "cell_type": "code",
   "execution_count": 126,
   "metadata": {},
   "outputs": [],
   "source": [
    "# This will show how similar the original and the generated\n",
    "# images are.\n",
    "def reconstruct(n_samples):\n",
    "    global desc\n",
    "    encoder = load_model('{}_encoder.h5'.format(desc))\n",
    "    decoder = load_model('{}_decoder.h5'.format(desc))\n",
    "    (x_train, y_train), (x_test, y_test) = mnist.load_data()\n",
    "    choice = np.random.choice(np.arange(n_samples))\n",
    "    original = x_test[choice].reshape(1, 784)\n",
    "    normalize = colors.Normalize(0., 255.)\n",
    "    original = normalize(original)\n",
    "    latent = encoder.predict(original)\n",
    "    reconstruction = decoder.predict(latent)\n",
    "    draw([{\"title\": \"Original\", \"image\": original}, {\"title\": \"Reconstruction\", \"image\": reconstruction}])\n",
    "\n",
    "# This will generate the output for one latent aribrary input. \n",
    "def generate(latent=None):\n",
    "    decoder = load_model('{}_decoder.h5'.format(desc))\n",
    "    if latent is None:\n",
    "        latent = np.random.randn(1, latent_dim)\n",
    "    else:\n",
    "        latent = np.array(latent)\n",
    "    sample = decoder.predict(latent.reshape(1, latent_dim))\n",
    "    draw([{\"title\": \"Sample\", \"image\": sample}])"
   ]
  },
  {
   "cell_type": "code",
   "execution_count": 133,
   "metadata": {},
   "outputs": [],
   "source": [
    "def draw(samples):\n",
    "    global desc\n",
    "    fig = plt.figure(figsize=(5 * len(samples), 5))\n",
    "    gs = gridspec.GridSpec(1, len(samples))\n",
    "    for i, sample in enumerate(samples):\n",
    "        ax = plt.Subplot(fig, gs[i])\n",
    "        ax.imshow((sample[\"image\"] * 255.).reshape(28, 28), cmap='gray')\n",
    "        ax.set_xticks([])\n",
    "        ax.set_yticks([])\n",
    "        ax.set_aspect('equal')\n",
    "        ax.set_title(sample[\"title\"])\n",
    "        fig.add_subplot(ax)\n",
    "    plt.show(block=False)\n",
    "    raw_input(\"Press Enter to Exit\")\n",
    "\n",
    "def generate_grid(latent=None):\n",
    "    decoder = load_model('{}_decoder.h5'.format(desc))\n",
    "    samples = []\n",
    "    for i in np.arange(400):\n",
    "        latent = np.array([(i % 20) * 1.5 - 15., 15. - (i / 20) * 1.5])\n",
    "        samples.append({\n",
    "            \"image\": decoder.predict(latent.reshape(1, latent_dim))\n",
    "        })\n",
    "    draw_grid(samples)\n",
    "\n",
    "def draw_grid(samples):\n",
    "    global desc\n",
    "    fig = plt.figure(figsize=(15, 15))\n",
    "    gs = gridspec.GridSpec(20, 20, wspace=-.5, hspace=0)\n",
    "    for i, sample in enumerate(samples):\n",
    "        ax = plt.Subplot(fig, gs[i])\n",
    "        ax.imshow((sample[\"image\"] * 255.).reshape(28, 28), cmap='gray')\n",
    "        ax.set_xticks([])\n",
    "        ax.set_yticks([])\n",
    "        ax.set_aspect('equal')\n",
    "        # ax.set_title(sample[\"title\"])\n",
    "        fig.add_subplot(ax)\n",
    "    plt.show(block=False)\n",
    "    raw_input(\"Press Enter to Exit\")\n",
    "    # fig.savefig(\"images/{}_grid.png\".format(desc), bbox_inches=\"tight\", dpi=300)\n",
    "\n",
    "# Using TSNE to either show the manifold or actual x and y\n",
    "def plot(n_samples):\n",
    "    global desc\n",
    "    encoder = load_model('{}_encoder.h5'.format(desc))\n",
    "    #(x_train, y_train), (x_test, y_test) = mnist.load_data()\n",
    "    x_train = X_train\n",
    "    #print(x_train)\n",
    "    y_train = Y_train\n",
    "    #print(y_train)\n",
    "    x_test = X_test\n",
    "    y_test = Y_test    \n",
    "    \n",
    "    x = x_test[:n_samples].reshape(n_samples, 41)\n",
    "    y = y_test[:n_samples]\n",
    "    normalize = colors.Normalize(0., 255.)\n",
    "    x = normalize(x)\n",
    "    latent = encoder.predict(x)\n",
    "    if latent_dim > 2:\n",
    "        tsne = TSNE()\n",
    "        print(\"\\nFitting t-SNE, this will take awhile...\")\n",
    "        latent = tsne.fit_transform(latent)\n",
    "    fig, ax = plt.subplots()\n",
    "    for label in np.arange(10):\n",
    "        ax.scatter(latent[(y_test == label), 0], latent[(y_test == label), 1], label=label, s=3)\n",
    "    ax.legend(bbox_to_anchor=(1.05, 1), loc=2, borderaxespad=0.)\n",
    "    ax.set_aspect('equal')\n",
    "    ax.set_title(\"Latent Space\")\n",
    "    plt.show(block=False)\n",
    "    raw_input(\"Press Enter to Exit\")\n",
    "    # fig.savefig(\"images/{}_latent.png\".format(desc), bbox_inches=\"tight\", dpi=300)"
   ]
  },
  {
   "cell_type": "code",
   "execution_count": 128,
   "metadata": {},
   "outputs": [
    {
     "name": "stdout",
     "output_type": "stream",
     "text": [
      "\n",
      "Epoch 1/50 - 7.5s\n",
      "Autoencoder Loss: 13511330.71876698\n",
      "Discriminator Loss: 0.4112882232829688\n",
      "Generator Loss: 15.755348175037199\n",
      "\n",
      "Epoch 2/50 - 2.6s\n",
      "Autoencoder Loss: 13511329.777912162\n",
      "Discriminator Loss: 0.14081879046295775\n",
      "Generator Loss: 199.44011251519365\n",
      "\n",
      "Epoch 3/50 - 2.7s\n",
      "Autoencoder Loss: 13514066.608137736\n",
      "Discriminator Loss: 0.114913471986949\n",
      "Generator Loss: 353.95723242876005\n",
      "\n",
      "Epoch 4/50 - 2.5s\n",
      "Autoencoder Loss: 13511330.244650852\n",
      "Discriminator Loss: 0.08740495935747512\n",
      "Generator Loss: 267.27165608289766\n",
      "\n",
      "Epoch 5/50 - 2.5s\n",
      "Autoencoder Loss: 13511329.73830843\n",
      "Discriminator Loss: 0.0725935394630783\n",
      "Generator Loss: 162.77479608465987\n",
      "\n",
      "Epoch 6/50 - 2.5s\n",
      "Autoencoder Loss: 13514049.139421485\n",
      "Discriminator Loss: 0.16776671696046958\n",
      "Generator Loss: 206.33983846990074\n",
      "\n",
      "Epoch 7/50 - 2.6s\n",
      "Autoencoder Loss: 13511329.627237448\n",
      "Discriminator Loss: 0.2524300950627402\n",
      "Generator Loss: 645.1969925892063\n",
      "\n",
      "Epoch 8/50 - 2.5s\n",
      "Autoencoder Loss: 13511330.273810834\n",
      "Discriminator Loss: 0.8769764500506801\n",
      "Generator Loss: 349.22296383322737\n",
      "\n",
      "Epoch 9/50 - 2.6s\n",
      "Autoencoder Loss: 13511330.333130365\n",
      "Discriminator Loss: 0.9088952461418591\n",
      "Generator Loss: 795.7562890314474\n",
      "\n",
      "Epoch 10/50 - 2.5s\n",
      "Autoencoder Loss: 13514067.317223758\n",
      "Discriminator Loss: 1.2627165475299311\n",
      "Generator Loss: 635.4442372961743\n",
      "\n",
      "Epoch 11/50 - 2.7s\n",
      "Autoencoder Loss: 13511468.271189969\n",
      "Discriminator Loss: 0.8797966947805946\n",
      "Generator Loss: 339.81273830809243\n",
      "\n",
      "Epoch 12/50 - 2.6s\n",
      "Autoencoder Loss: 13511330.209818015\n",
      "Discriminator Loss: 1.5130363633200683\n",
      "Generator Loss: 647.2709486193774\n",
      "\n",
      "Epoch 13/50 - 2.5s\n",
      "Autoencoder Loss: 13511329.270743724\n",
      "Discriminator Loss: 1.1832850280835772\n",
      "Generator Loss: 128.38496883322554\n",
      "\n",
      "Epoch 14/50 - 2.5s\n",
      "Autoencoder Loss: 13514066.692752907\n",
      "Discriminator Loss: 1.0837486769644917\n",
      "Generator Loss: 202.4888271791179\n",
      "\n",
      "Epoch 15/50 - 2.6s\n",
      "Autoencoder Loss: 13511330.759484194\n",
      "Discriminator Loss: 1.4826480375334894\n",
      "Generator Loss: 144.21807442932595\n",
      "\n",
      "Epoch 16/50 - 2.5s\n",
      "Autoencoder Loss: 28542554.067026023\n",
      "Discriminator Loss: 1.6599162543751576\n",
      "Generator Loss: 422.8856513732817\n",
      "\n",
      "Epoch 17/50 - 2.6s\n",
      "Autoencoder Loss: 13514049.888099112\n",
      "Discriminator Loss: 1.7300140978547496\n",
      "Generator Loss: 238.4494044838882\n",
      "\n",
      "Epoch 18/50 - 2.5s\n",
      "Autoencoder Loss: 13511330.030050267\n",
      "Discriminator Loss: 1.7300800979582454\n",
      "Generator Loss: 589.2482897784652\n",
      "\n",
      "Epoch 19/50 - 2.5s\n",
      "Autoencoder Loss: 13514067.290712683\n",
      "Discriminator Loss: 2.2664025932753167\n",
      "Generator Loss: 401.04269024366283\n",
      "\n",
      "Epoch 20/50 - 2.6s\n",
      "Autoencoder Loss: 13511330.025694126\n",
      "Discriminator Loss: 2.282761935523558\n",
      "Generator Loss: 239.8780739540007\n",
      "\n",
      "Epoch 21/50 - 2.6s\n",
      "Autoencoder Loss: 13514148.843030639\n",
      "Discriminator Loss: 2.603543074486642\n",
      "Generator Loss: 332.7770958150305\n",
      "\n",
      "Epoch 22/50 - 2.7s\n",
      "Autoencoder Loss: 13514187.297906213\n",
      "Discriminator Loss: 2.683557433177726\n",
      "Generator Loss: 301.9432070197129\n",
      "\n",
      "Epoch 23/50 - 2.5s\n",
      "Autoencoder Loss: 13514048.623660104\n",
      "Discriminator Loss: 2.05346321668003\n",
      "Generator Loss: 73.80150927276146\n",
      "\n",
      "Epoch 24/50 - 2.5s\n",
      "Autoencoder Loss: 13514048.002291285\n",
      "Discriminator Loss: 1.4621821074703747\n",
      "Generator Loss: 204.73896761638363\n",
      "\n",
      "Epoch 25/50 - 2.6s\n",
      "Autoencoder Loss: 13516786.6857304\n",
      "Discriminator Loss: 2.0372706706574926\n",
      "Generator Loss: 76.27462598318007\n",
      "\n",
      "Epoch 26/50 - 2.5s\n",
      "Autoencoder Loss: 13511329.811425187\n",
      "Discriminator Loss: 1.6289538864039537\n",
      "Generator Loss: 105.30737427821974\n",
      "\n",
      "Epoch 27/50 - 2.7s\n",
      "Autoencoder Loss: 13511329.742268017\n",
      "Discriminator Loss: 1.3605372389790549\n",
      "Generator Loss: 59.59796824106356\n",
      "\n",
      "Epoch 28/50 - 2.7s\n",
      "Autoencoder Loss: 13511329.599461585\n",
      "Discriminator Loss: 1.3404320261856997\n",
      "Generator Loss: 126.92115066109633\n",
      "\n",
      "Epoch 29/50 - 2.5s\n",
      "Autoencoder Loss: 13511330.524035139\n",
      "Discriminator Loss: 1.0452277256082851\n",
      "Generator Loss: 100.67474861697453\n",
      "\n",
      "Epoch 30/50 - 2.6s\n",
      "Autoencoder Loss: 13516764.616009433\n",
      "Discriminator Loss: 0.8057885955687243\n",
      "Generator Loss: 38.85398676337265\n",
      "\n",
      "Epoch 31/50 - 2.5s\n",
      "Autoencoder Loss: 13516765.741748985\n",
      "Discriminator Loss: 0.7110203562762698\n",
      "Generator Loss: 131.99784885383235\n",
      "\n",
      "Epoch 32/50 - 2.5s\n",
      "Autoencoder Loss: 13514047.547312759\n",
      "Discriminator Loss: 0.5737558769951299\n",
      "Generator Loss: 61.52658040349076\n",
      "\n",
      "Epoch 33/50 - 2.5s\n",
      "Autoencoder Loss: 13511329.99187116\n",
      "Discriminator Loss: 0.536828358154679\n",
      "Generator Loss: 47.87152167355142\n",
      "\n",
      "Epoch 34/50 - 2.7s\n",
      "Autoencoder Loss: 13514048.805435011\n",
      "Discriminator Loss: 0.6948403098259041\n",
      "Generator Loss: 186.36770713329315\n",
      "\n",
      "Epoch 35/50 - 2.5s\n",
      "Autoencoder Loss: 13514048.544031376\n",
      "Discriminator Loss: 0.8589722902715078\n",
      "Generator Loss: 70.63106105385756\n",
      "\n",
      "Epoch 36/50 - 2.5s\n",
      "Autoencoder Loss: 13511329.272477591\n",
      "Discriminator Loss: 0.5712261513216748\n",
      "Generator Loss: 253.09428071103446\n",
      "\n",
      "Epoch 37/50 - 2.6s\n",
      "Autoencoder Loss: 13514548.40271081\n",
      "Discriminator Loss: 0.332308787429127\n",
      "Generator Loss: 98.91136496823009\n",
      "\n",
      "Epoch 38/50 - 2.5s\n",
      "Autoencoder Loss: 13511330.411377523\n",
      "Discriminator Loss: 0.18833872855206577\n",
      "Generator Loss: 72.02204627525515\n",
      "\n",
      "Epoch 39/50 - 2.5s\n",
      "Autoencoder Loss: 13516764.566330096\n",
      "Discriminator Loss: 0.34501120451573847\n",
      "Generator Loss: 88.38602813278756\n",
      "\n",
      "Epoch 40/50 - 2.7s\n",
      "Autoencoder Loss: 13516769.111656992\n",
      "Discriminator Loss: 0.26712470535965865\n",
      "Generator Loss: 355.58765726554685\n",
      "\n",
      "Epoch 41/50 - 2.5s\n",
      "Autoencoder Loss: 13511330.421595398\n",
      "Discriminator Loss: 0.28817836667953567\n",
      "Generator Loss: 206.87791569058487\n",
      "\n",
      "Epoch 42/50 - 2.5s\n",
      "Autoencoder Loss: 13511330.923478387\n",
      "Discriminator Loss: 0.3461520791286178\n",
      "Generator Loss: 143.1364119052887\n",
      "\n",
      "Epoch 43/50 - 2.6s\n",
      "Autoencoder Loss: 13511330.830322778\n",
      "Discriminator Loss: 0.48856727946293144\n",
      "Generator Loss: 322.75300234120067\n",
      "\n",
      "Epoch 44/50 - 2.5s\n",
      "Autoencoder Loss: 13511330.411713379\n",
      "Discriminator Loss: 0.2831803150431758\n",
      "Generator Loss: 70.24413147786768\n",
      "\n",
      "Epoch 45/50 - 2.6s\n",
      "Autoencoder Loss: 13511329.531894667\n",
      "Discriminator Loss: 0.1827648020409244\n",
      "Generator Loss: 58.35314392462009\n",
      "\n",
      "Epoch 46/50 - 2.7s\n",
      "Autoencoder Loss: 13516768.698277961\n",
      "Discriminator Loss: 0.1930396468373195\n",
      "Generator Loss: 154.86223412723075\n",
      "\n",
      "Epoch 47/50 - 2.6s\n",
      "Autoencoder Loss: 13514050.344015377\n",
      "Discriminator Loss: 0.17506929536747048\n",
      "Generator Loss: 218.616125804622\n",
      "\n",
      "Epoch 48/50 - 2.5s\n",
      "Autoencoder Loss: 13511329.837649636\n",
      "Discriminator Loss: 0.20666868094449437\n",
      "Generator Loss: 93.60974887522255\n",
      "\n",
      "Epoch 49/50 - 2.5s\n",
      "Autoencoder Loss: 13511330.179274332\n",
      "Discriminator Loss: 0.1521478978833868\n",
      "Generator Loss: 48.71434820570597\n",
      "\n",
      "Epoch 50/50 - 2.7s\n",
      "Autoencoder Loss: 13514051.143993052\n",
      "Discriminator Loss: 0.1460880808586631\n",
      "Generator Loss: 67.81981939222754\n",
      "\n",
      "Saving models...\n"
     ]
    }
   ],
   "source": [
    "# run it. \n",
    "\n",
    "# Run it with the flag_train = True once to generat the .h5 files for the models\n",
    "# then use _plot, grid_ etc. to see the results. \n",
    "\n",
    "global flag_generate\n",
    "    \n",
    "flag_save_graph=False\n",
    "flag_generate=True\n",
    "flag_train = True #was False\n",
    "flag_generate_grid=False\n",
    "flag_plot=False\n",
    "latent_vec = [10, 0]\n",
    "    \n",
    "global desc\n",
    "if flag_adversarial:\n",
    "    desc = \"aae\"\n",
    "else:\n",
    "    desc = \"regular\"\n",
    "if flag_train:\n",
    "    train(n_samples=train_samples, batch_size=batchsize, n_epochs=epochs)\n",
    "elif flag_reconstruct:\n",
    "    reconstruct(n_samples=test_samples)\n",
    "elif flag_generate:\n",
    "    if latent_vec:\n",
    "        assert len(latent_vec) == latent_dim, \"Latent vector provided is of dim {}; required dim is {}\".format(len(latent_vec), latent_dim)\n",
    "        generate(latent_vec)\n",
    "    else:\n",
    "        generate()\n",
    "elif flag_generate_grid:\n",
    "    generate_grid()\n",
    "elif flag_plot:\n",
    "    plot(test_samples)"
   ]
  },
  {
   "cell_type": "code",
   "execution_count": null,
   "metadata": {},
   "outputs": [
    {
     "name": "stdout",
     "output_type": "stream",
     "text": [
      "\n",
      "Fitting t-SNE, this will take awhile...\n"
     ]
    }
   ],
   "source": [
    "global flag_generate\n",
    "    \n",
    "flag_save_graph=False\n",
    "flag_generate=False\n",
    "flag_train = False\n",
    "flag_generate_grid=False\n",
    "flag_plot=True\n",
    "latent_vec = [10, 0]\n",
    "    \n",
    "global desc\n",
    "if flag_adversarial:\n",
    "    desc = \"aae\"\n",
    "else:\n",
    "    desc = \"regular\"\n",
    "if flag_train:\n",
    "    train(n_samples=train_samples, batch_size=batchsize, n_epochs=epochs)\n",
    "elif flag_reconstruct:\n",
    "    reconstruct(n_samples=test_samples)\n",
    "elif flag_generate:\n",
    "    if latent_vec:\n",
    "        assert len(latent_vec) == latent_dim, \"Latent vector provided is of dim {}; required dim is {}\".format(len(latent_vec), latent_dim)\n",
    "        generate(latent_vec)\n",
    "    else:\n",
    "        generate()\n",
    "elif flag_generate_grid:\n",
    "    generate_grid()\n",
    "elif flag_plot:\n",
    "    plot(test_samples)"
   ]
  },
  {
   "cell_type": "code",
   "execution_count": null,
   "metadata": {},
   "outputs": [],
   "source": []
  },
  {
   "cell_type": "code",
   "execution_count": 31,
   "metadata": {},
   "outputs": [],
   "source": [
    "from keras.models import Sequential\n",
    "from keras import layers\n",
    "from keras.layers.core import Dense\n",
    "from keras.layers import GlobalAveragePooling2D\n",
    "from keras.models import Model\n",
    "from keras.optimizers import SGD\n",
    "from keras.applications import inception_v3\n",
    "from keras.applications.inception_v3 import InceptionV3\n",
    "from keras.applications.inception_v3 import preprocess_input as inception_v3_preprocessor\n",
    "\n"
   ]
  },
  {
   "cell_type": "code",
   "execution_count": 32,
   "metadata": {},
   "outputs": [],
   "source": [
    "def create_InceptionV3():\n",
    "    # Getting the InceptionV3 model \n",
    "    base_model = InceptionV3(weights = 'imagenet', include_top = False, input_shape=(125973,41))\n",
    "\n",
    "    # Adding a global spatial average pooling layer\n",
    "    x = base_model.output\n",
    "    x = GlobalAveragePooling2D()(x)\n",
    "\n",
    "    #Adding a fully-connected dense layer\n",
    "    x = Dense(512, activation='relu')(x)\n",
    "\n",
    "    #Adding a logistic layer - We have 3 classes\n",
    "    predictions = Dense(3, activation='softmax')(x)\n",
    "\n",
    "    # The model we will train\n",
    "    model = Model(inputs = base_model.input, outputs = predictions)\n",
    "\n",
    "    # first: train only the top layers i.e. freeze all convolutional InceptionV3 layers\n",
    "    for layer in base_model.layers:\n",
    "        layer.trainable = False\n",
    "\n",
    "    # Show a summary of the model. Check the number of trainable parameters\n",
    "    model.summary()\n",
    "\n",
    "    # initialize our initial learning rate and # of epochs to train for\n",
    "    INIT_LR = 0.01\n",
    "\n",
    "    # compile the model using SGD as our optimizer and categorical\n",
    "    # cross-entropy loss (you'll want to use binary_crossentropy\n",
    "    # for 2-class classification)\n",
    "\n",
    "    opt = SGD(lr=INIT_LR)\n",
    "    model.compile(loss=\"categorical_crossentropy\", optimizer=opt,\n",
    "                  metrics=[\"accuracy\"])\n",
    "\n",
    "    return model"
   ]
  },
  {
   "cell_type": "code",
   "execution_count": 33,
   "metadata": {},
   "outputs": [
    {
     "ename": "ValueError",
     "evalue": "`input_shape` must be a tuple of three integers.",
     "output_type": "error",
     "traceback": [
      "\u001b[1;31m---------------------------------------------------------------------------\u001b[0m",
      "\u001b[1;31mValueError\u001b[0m                                Traceback (most recent call last)",
      "\u001b[1;32m<ipython-input-33-30e7892c3366>\u001b[0m in \u001b[0;36m<module>\u001b[1;34m\u001b[0m\n\u001b[1;32m----> 1\u001b[1;33m \u001b[0mmodel\u001b[0m \u001b[1;33m=\u001b[0m \u001b[0mcreate_InceptionV3\u001b[0m\u001b[1;33m(\u001b[0m\u001b[1;33m)\u001b[0m\u001b[1;33m\u001b[0m\u001b[1;33m\u001b[0m\u001b[0m\n\u001b[0m\u001b[0;32m      2\u001b[0m \u001b[0mEPOCHS\u001b[0m \u001b[1;33m=\u001b[0m \u001b[1;36m75\u001b[0m\u001b[1;33m\u001b[0m\u001b[1;33m\u001b[0m\u001b[0m\n\u001b[0;32m      3\u001b[0m \u001b[1;33m\u001b[0m\u001b[0m\n\u001b[0;32m      4\u001b[0m \u001b[1;31m# train the neural network\u001b[0m\u001b[1;33m\u001b[0m\u001b[1;33m\u001b[0m\u001b[1;33m\u001b[0m\u001b[0m\n\u001b[0;32m      5\u001b[0m \u001b[0mprint\u001b[0m\u001b[1;33m(\u001b[0m\u001b[1;34m\"[INFO] training network...\"\u001b[0m\u001b[1;33m)\u001b[0m\u001b[1;33m\u001b[0m\u001b[1;33m\u001b[0m\u001b[0m\n",
      "\u001b[1;32m<ipython-input-32-289d94a5b541>\u001b[0m in \u001b[0;36mcreate_InceptionV3\u001b[1;34m()\u001b[0m\n\u001b[0;32m      1\u001b[0m \u001b[1;32mdef\u001b[0m \u001b[0mcreate_InceptionV3\u001b[0m\u001b[1;33m(\u001b[0m\u001b[1;33m)\u001b[0m\u001b[1;33m:\u001b[0m\u001b[1;33m\u001b[0m\u001b[1;33m\u001b[0m\u001b[0m\n\u001b[0;32m      2\u001b[0m     \u001b[1;31m# Getting the InceptionV3 model\u001b[0m\u001b[1;33m\u001b[0m\u001b[1;33m\u001b[0m\u001b[1;33m\u001b[0m\u001b[0m\n\u001b[1;32m----> 3\u001b[1;33m     \u001b[0mbase_model\u001b[0m \u001b[1;33m=\u001b[0m \u001b[0mInceptionV3\u001b[0m\u001b[1;33m(\u001b[0m\u001b[0mweights\u001b[0m \u001b[1;33m=\u001b[0m \u001b[1;34m'imagenet'\u001b[0m\u001b[1;33m,\u001b[0m \u001b[0minclude_top\u001b[0m \u001b[1;33m=\u001b[0m \u001b[1;32mFalse\u001b[0m\u001b[1;33m,\u001b[0m \u001b[0minput_shape\u001b[0m\u001b[1;33m=\u001b[0m\u001b[1;33m(\u001b[0m\u001b[1;36m125973\u001b[0m\u001b[1;33m,\u001b[0m\u001b[1;36m41\u001b[0m\u001b[1;33m)\u001b[0m\u001b[1;33m)\u001b[0m\u001b[1;33m\u001b[0m\u001b[1;33m\u001b[0m\u001b[0m\n\u001b[0m\u001b[0;32m      4\u001b[0m \u001b[1;33m\u001b[0m\u001b[0m\n\u001b[0;32m      5\u001b[0m     \u001b[1;31m# Adding a global spatial average pooling layer\u001b[0m\u001b[1;33m\u001b[0m\u001b[1;33m\u001b[0m\u001b[1;33m\u001b[0m\u001b[0m\n",
      "\u001b[1;32m~\\Anaconda3\\envs\\tf_gpu\\lib\\site-packages\\keras\\applications\\__init__.py\u001b[0m in \u001b[0;36mwrapper\u001b[1;34m(*args, **kwargs)\u001b[0m\n\u001b[0;32m     26\u001b[0m             \u001b[0mkwargs\u001b[0m\u001b[1;33m[\u001b[0m\u001b[1;34m'models'\u001b[0m\u001b[1;33m]\u001b[0m \u001b[1;33m=\u001b[0m \u001b[0mmodels\u001b[0m\u001b[1;33m\u001b[0m\u001b[1;33m\u001b[0m\u001b[0m\n\u001b[0;32m     27\u001b[0m             \u001b[0mkwargs\u001b[0m\u001b[1;33m[\u001b[0m\u001b[1;34m'utils'\u001b[0m\u001b[1;33m]\u001b[0m \u001b[1;33m=\u001b[0m \u001b[0mutils\u001b[0m\u001b[1;33m\u001b[0m\u001b[1;33m\u001b[0m\u001b[0m\n\u001b[1;32m---> 28\u001b[1;33m         \u001b[1;32mreturn\u001b[0m \u001b[0mbase_fun\u001b[0m\u001b[1;33m(\u001b[0m\u001b[1;33m*\u001b[0m\u001b[0margs\u001b[0m\u001b[1;33m,\u001b[0m \u001b[1;33m**\u001b[0m\u001b[0mkwargs\u001b[0m\u001b[1;33m)\u001b[0m\u001b[1;33m\u001b[0m\u001b[1;33m\u001b[0m\u001b[0m\n\u001b[0m\u001b[0;32m     29\u001b[0m \u001b[1;33m\u001b[0m\u001b[0m\n\u001b[0;32m     30\u001b[0m     \u001b[1;32mreturn\u001b[0m \u001b[0mwrapper\u001b[0m\u001b[1;33m\u001b[0m\u001b[1;33m\u001b[0m\u001b[0m\n",
      "\u001b[1;32m~\\Anaconda3\\envs\\tf_gpu\\lib\\site-packages\\keras\\applications\\inception_v3.py\u001b[0m in \u001b[0;36mInceptionV3\u001b[1;34m(*args, **kwargs)\u001b[0m\n\u001b[0;32m      9\u001b[0m \u001b[1;33m@\u001b[0m\u001b[0mkeras_modules_injection\u001b[0m\u001b[1;33m\u001b[0m\u001b[1;33m\u001b[0m\u001b[0m\n\u001b[0;32m     10\u001b[0m \u001b[1;32mdef\u001b[0m \u001b[0mInceptionV3\u001b[0m\u001b[1;33m(\u001b[0m\u001b[1;33m*\u001b[0m\u001b[0margs\u001b[0m\u001b[1;33m,\u001b[0m \u001b[1;33m**\u001b[0m\u001b[0mkwargs\u001b[0m\u001b[1;33m)\u001b[0m\u001b[1;33m:\u001b[0m\u001b[1;33m\u001b[0m\u001b[1;33m\u001b[0m\u001b[0m\n\u001b[1;32m---> 11\u001b[1;33m     \u001b[1;32mreturn\u001b[0m \u001b[0minception_v3\u001b[0m\u001b[1;33m.\u001b[0m\u001b[0mInceptionV3\u001b[0m\u001b[1;33m(\u001b[0m\u001b[1;33m*\u001b[0m\u001b[0margs\u001b[0m\u001b[1;33m,\u001b[0m \u001b[1;33m**\u001b[0m\u001b[0mkwargs\u001b[0m\u001b[1;33m)\u001b[0m\u001b[1;33m\u001b[0m\u001b[1;33m\u001b[0m\u001b[0m\n\u001b[0m\u001b[0;32m     12\u001b[0m \u001b[1;33m\u001b[0m\u001b[0m\n\u001b[0;32m     13\u001b[0m \u001b[1;33m\u001b[0m\u001b[0m\n",
      "\u001b[1;32m~\\Anaconda3\\envs\\tf_gpu\\lib\\site-packages\\keras_applications\\inception_v3.py\u001b[0m in \u001b[0;36mInceptionV3\u001b[1;34m(include_top, weights, input_tensor, input_shape, pooling, classes, **kwargs)\u001b[0m\n\u001b[0;32m    152\u001b[0m         \u001b[0mdata_format\u001b[0m\u001b[1;33m=\u001b[0m\u001b[0mbackend\u001b[0m\u001b[1;33m.\u001b[0m\u001b[0mimage_data_format\u001b[0m\u001b[1;33m(\u001b[0m\u001b[1;33m)\u001b[0m\u001b[1;33m,\u001b[0m\u001b[1;33m\u001b[0m\u001b[1;33m\u001b[0m\u001b[0m\n\u001b[0;32m    153\u001b[0m         \u001b[0mrequire_flatten\u001b[0m\u001b[1;33m=\u001b[0m\u001b[0minclude_top\u001b[0m\u001b[1;33m,\u001b[0m\u001b[1;33m\u001b[0m\u001b[1;33m\u001b[0m\u001b[0m\n\u001b[1;32m--> 154\u001b[1;33m         weights=weights)\n\u001b[0m\u001b[0;32m    155\u001b[0m \u001b[1;33m\u001b[0m\u001b[0m\n\u001b[0;32m    156\u001b[0m     \u001b[1;32mif\u001b[0m \u001b[0minput_tensor\u001b[0m \u001b[1;32mis\u001b[0m \u001b[1;32mNone\u001b[0m\u001b[1;33m:\u001b[0m\u001b[1;33m\u001b[0m\u001b[1;33m\u001b[0m\u001b[0m\n",
      "\u001b[1;32m~\\Anaconda3\\envs\\tf_gpu\\lib\\site-packages\\keras_applications\\imagenet_utils.py\u001b[0m in \u001b[0;36m_obtain_input_shape\u001b[1;34m(input_shape, default_size, min_size, data_format, require_flatten, weights)\u001b[0m\n\u001b[0;32m    311\u001b[0m                 \u001b[1;32mif\u001b[0m \u001b[0mlen\u001b[0m\u001b[1;33m(\u001b[0m\u001b[0minput_shape\u001b[0m\u001b[1;33m)\u001b[0m \u001b[1;33m!=\u001b[0m \u001b[1;36m3\u001b[0m\u001b[1;33m:\u001b[0m\u001b[1;33m\u001b[0m\u001b[1;33m\u001b[0m\u001b[0m\n\u001b[0;32m    312\u001b[0m                     raise ValueError(\n\u001b[1;32m--> 313\u001b[1;33m                         '`input_shape` must be a tuple of three integers.')\n\u001b[0m\u001b[0;32m    314\u001b[0m                 \u001b[1;32mif\u001b[0m \u001b[0minput_shape\u001b[0m\u001b[1;33m[\u001b[0m\u001b[1;33m-\u001b[0m\u001b[1;36m1\u001b[0m\u001b[1;33m]\u001b[0m \u001b[1;33m!=\u001b[0m \u001b[1;36m3\u001b[0m \u001b[1;32mand\u001b[0m \u001b[0mweights\u001b[0m \u001b[1;33m==\u001b[0m \u001b[1;34m'imagenet'\u001b[0m\u001b[1;33m:\u001b[0m\u001b[1;33m\u001b[0m\u001b[1;33m\u001b[0m\u001b[0m\n\u001b[0;32m    315\u001b[0m                     raise ValueError('The input must have 3 channels; got '\n",
      "\u001b[1;31mValueError\u001b[0m: `input_shape` must be a tuple of three integers."
     ]
    }
   ],
   "source": [
    "model = create_InceptionV3()\n",
    "EPOCHS = 75\n",
    "\n",
    "# train the neural network\n",
    "print(\"[INFO] training network...\")\n",
    "H = model.fit(X_train, dummy_y_train, validation_split=0.25,\n",
    "              epochs=EPOCHS, batch_size=128)\n"
   ]
  },
  {
   "cell_type": "code",
   "execution_count": 34,
   "metadata": {},
   "outputs": [
    {
     "name": "stdout",
     "output_type": "stream",
     "text": [
      "WARNING:tensorflow:From C:\\Users\\Lana\\Anaconda3\\envs\\tf_gpu\\lib\\site-packages\\keras\\backend\\tensorflow_backend.py:74: The name tf.get_default_graph is deprecated. Please use tf.compat.v1.get_default_graph instead.\n",
      "\n",
      "WARNING:tensorflow:From C:\\Users\\Lana\\Anaconda3\\envs\\tf_gpu\\lib\\site-packages\\keras\\backend\\tensorflow_backend.py:517: The name tf.placeholder is deprecated. Please use tf.compat.v1.placeholder instead.\n",
      "\n",
      "WARNING:tensorflow:From C:\\Users\\Lana\\Anaconda3\\envs\\tf_gpu\\lib\\site-packages\\keras\\backend\\tensorflow_backend.py:4138: The name tf.random_uniform is deprecated. Please use tf.random.uniform instead.\n",
      "\n"
     ]
    }
   ],
   "source": [
    "import keras\n",
    "from keras.models import Sequential\n",
    "from keras.layers import Dense\n",
    "\n",
    "# define the keras model\n",
    "model = Sequential()\n",
    "model.add(Dense(41, input_dim=41, activation='relu'))\n",
    "model.add(Dense(41, activation='relu'))\n",
    "model.add(Dense(5, activation = 'softmax'))"
   ]
  },
  {
   "cell_type": "code",
   "execution_count": 35,
   "metadata": {},
   "outputs": [
    {
     "name": "stdout",
     "output_type": "stream",
     "text": [
      "WARNING:tensorflow:From C:\\Users\\Lana\\Anaconda3\\envs\\tf_gpu\\lib\\site-packages\\keras\\optimizers.py:790: The name tf.train.Optimizer is deprecated. Please use tf.compat.v1.train.Optimizer instead.\n",
      "\n",
      "WARNING:tensorflow:From C:\\Users\\Lana\\Anaconda3\\envs\\tf_gpu\\lib\\site-packages\\keras\\backend\\tensorflow_backend.py:3295: The name tf.log is deprecated. Please use tf.math.log instead.\n",
      "\n"
     ]
    }
   ],
   "source": [
    "# compile the keras model\n",
    "model.compile(loss='categorical_crossentropy', optimizer='adam', metrics=['accuracy'])"
   ]
  },
  {
   "cell_type": "code",
   "execution_count": 36,
   "metadata": {
    "scrolled": true
   },
   "outputs": [
    {
     "name": "stdout",
     "output_type": "stream",
     "text": [
      "WARNING:tensorflow:From C:\\Users\\Lana\\Anaconda3\\envs\\tf_gpu\\lib\\site-packages\\tensorflow\\python\\ops\\math_grad.py:1250: add_dispatch_support.<locals>.wrapper (from tensorflow.python.ops.array_ops) is deprecated and will be removed in a future version.\n",
      "Instructions for updating:\n",
      "Use tf.where in 2.0, which has the same broadcast rule as np.where\n",
      "WARNING:tensorflow:From C:\\Users\\Lana\\Anaconda3\\envs\\tf_gpu\\lib\\site-packages\\keras\\backend\\tensorflow_backend.py:986: The name tf.assign_add is deprecated. Please use tf.compat.v1.assign_add instead.\n",
      "\n",
      "Train on 94479 samples, validate on 31494 samples\n",
      "Epoch 1/50\n",
      "94479/94479 [==============================] - 50s 533us/step - loss: 1.1056 - acc: 0.9120 - val_loss: 0.7928 - val_acc: 0.9445\n",
      "Epoch 2/50\n",
      "94479/94479 [==============================] - 17s 182us/step - loss: 0.7905 - acc: 0.9432 - val_loss: 0.7955 - val_acc: 0.9436\n",
      "Epoch 3/50\n",
      "94479/94479 [==============================] - 17s 183us/step - loss: 0.7720 - acc: 0.9471 - val_loss: 0.7918 - val_acc: 0.9427\n",
      "Epoch 4/50\n",
      "94479/94479 [==============================] - 17s 185us/step - loss: 0.7706 - acc: 0.9477 - val_loss: 0.7702 - val_acc: 0.9489\n",
      "Epoch 5/50\n",
      "94479/94479 [==============================] - 17s 182us/step - loss: 0.7636 - acc: 0.9486 - val_loss: 0.8260 - val_acc: 0.9446\n",
      "Epoch 6/50\n",
      "94479/94479 [==============================] - 18s 186us/step - loss: 0.5920 - acc: 0.9591 - val_loss: 0.5218 - val_acc: 0.9639\n",
      "Epoch 7/50\n",
      "94479/94479 [==============================] - 17s 181us/step - loss: 0.4936 - acc: 0.9659 - val_loss: 0.4885 - val_acc: 0.9674\n",
      "Epoch 8/50\n",
      "94479/94479 [==============================] - 17s 179us/step - loss: 0.4966 - acc: 0.9661 - val_loss: 0.5056 - val_acc: 0.9633\n",
      "Epoch 9/50\n",
      "94479/94479 [==============================] - 18s 186us/step - loss: 0.4749 - acc: 0.9678 - val_loss: 0.5016 - val_acc: 0.9640\n",
      "Epoch 10/50\n",
      "94479/94479 [==============================] - 17s 177us/step - loss: 0.4948 - acc: 0.9665 - val_loss: 0.4981 - val_acc: 0.9666\n",
      "Epoch 11/50\n",
      "94479/94479 [==============================] - 17s 180us/step - loss: 0.4831 - acc: 0.9672 - val_loss: 0.4905 - val_acc: 0.9675\n",
      "Epoch 12/50\n",
      "94479/94479 [==============================] - 17s 176us/step - loss: 0.4788 - acc: 0.9679 - val_loss: 0.4855 - val_acc: 0.9675\n",
      "Epoch 13/50\n",
      "94479/94479 [==============================] - 18s 188us/step - loss: 0.4618 - acc: 0.9692 - val_loss: 0.4824 - val_acc: 0.9684\n",
      "Epoch 14/50\n",
      "94479/94479 [==============================] - 16s 174us/step - loss: 0.4612 - acc: 0.9688 - val_loss: 0.4295 - val_acc: 0.9717\n",
      "Epoch 15/50\n",
      "94479/94479 [==============================] - 16s 173us/step - loss: 0.4349 - acc: 0.9705 - val_loss: 0.4262 - val_acc: 0.9716\n",
      "Epoch 16/50\n",
      "94479/94479 [==============================] - 16s 174us/step - loss: 0.4503 - acc: 0.9695 - val_loss: 0.4421 - val_acc: 0.9697\n",
      "Epoch 17/50\n",
      "94479/94479 [==============================] - 16s 174us/step - loss: 0.4538 - acc: 0.9697 - val_loss: 0.4269 - val_acc: 0.9718\n",
      "Epoch 18/50\n",
      "94479/94479 [==============================] - 17s 177us/step - loss: 0.4177 - acc: 0.9722 - val_loss: 0.4171 - val_acc: 0.9721\n",
      "Epoch 19/50\n",
      "94479/94479 [==============================] - 18s 186us/step - loss: 0.4165 - acc: 0.9720 - val_loss: 0.4123 - val_acc: 0.9729\n",
      "Epoch 20/50\n",
      "94479/94479 [==============================] - 16s 174us/step - loss: 0.4130 - acc: 0.9723 - val_loss: 0.4167 - val_acc: 0.9723\n",
      "Epoch 21/50\n",
      "94479/94479 [==============================] - 16s 174us/step - loss: 0.4102 - acc: 0.9728 - val_loss: 0.4130 - val_acc: 0.9729\n",
      "Epoch 22/50\n",
      "94479/94479 [==============================] - 17s 177us/step - loss: 0.4084 - acc: 0.9726 - val_loss: 0.4507 - val_acc: 0.9698\n",
      "Epoch 23/50\n",
      "94479/94479 [==============================] - 17s 182us/step - loss: 0.3557 - acc: 0.9754 - val_loss: 0.3996 - val_acc: 0.9728\n",
      "Epoch 24/50\n",
      "94479/94479 [==============================] - 18s 191us/step - loss: 0.3432 - acc: 0.9741 - val_loss: 0.2199 - val_acc: 0.9823\n",
      "Epoch 25/50\n",
      "94479/94479 [==============================] - 17s 179us/step - loss: 0.3002 - acc: 0.9774 - val_loss: 0.2498 - val_acc: 0.9803\n",
      "Epoch 26/50\n",
      "94479/94479 [==============================] - 16s 174us/step - loss: 0.3056 - acc: 0.9772 - val_loss: 0.2699 - val_acc: 0.9795\n",
      "Epoch 27/50\n",
      "94479/94479 [==============================] - 17s 177us/step - loss: 0.3261 - acc: 0.9762 - val_loss: 0.3410 - val_acc: 0.9753\n",
      "Epoch 28/50\n",
      "94479/94479 [==============================] - 17s 180us/step - loss: 0.3315 - acc: 0.9758 - val_loss: 0.3339 - val_acc: 0.9755\n",
      "Epoch 29/50\n",
      "94479/94479 [==============================] - 17s 175us/step - loss: 0.3103 - acc: 0.9770 - val_loss: 0.3755 - val_acc: 0.9723\n",
      "Epoch 30/50\n",
      "94479/94479 [==============================] - 16s 173us/step - loss: 0.3294 - acc: 0.9759 - val_loss: 0.3316 - val_acc: 0.9764\n",
      "Epoch 31/50\n",
      "94479/94479 [==============================] - 16s 171us/step - loss: 0.3263 - acc: 0.9762 - val_loss: 0.3400 - val_acc: 0.9745\n",
      "Epoch 32/50\n",
      "94479/94479 [==============================] - 16s 171us/step - loss: 0.3274 - acc: 0.9762 - val_loss: 0.3326 - val_acc: 0.9757\n",
      "Epoch 33/50\n",
      "94479/94479 [==============================] - 16s 172us/step - loss: 0.3252 - acc: 0.9764 - val_loss: 0.3337 - val_acc: 0.9749\n",
      "Epoch 34/50\n",
      "94479/94479 [==============================] - 16s 171us/step - loss: 0.3277 - acc: 0.9765 - val_loss: 0.3507 - val_acc: 0.9702\n",
      "Epoch 35/50\n",
      "94479/94479 [==============================] - 16s 171us/step - loss: 0.3284 - acc: 0.9762 - val_loss: 0.3336 - val_acc: 0.9755\n",
      "Epoch 36/50\n",
      "94479/94479 [==============================] - 16s 173us/step - loss: 0.3192 - acc: 0.9768 - val_loss: 0.3392 - val_acc: 0.9754\n",
      "Epoch 37/50\n",
      "94479/94479 [==============================] - 16s 171us/step - loss: 0.3246 - acc: 0.9763 - val_loss: 0.3352 - val_acc: 0.9750\n",
      "Epoch 38/50\n",
      "94479/94479 [==============================] - 16s 167us/step - loss: 0.2996 - acc: 0.9782 - val_loss: 0.3511 - val_acc: 0.9754\n",
      "Epoch 39/50\n",
      "94479/94479 [==============================] - 16s 170us/step - loss: 0.3320 - acc: 0.9765 - val_loss: 0.3353 - val_acc: 0.9752\n",
      "Epoch 40/50\n",
      "94479/94479 [==============================] - 16s 171us/step - loss: 0.2541 - acc: 0.9810 - val_loss: 0.2054 - val_acc: 0.9838\n",
      "Epoch 41/50\n",
      "94479/94479 [==============================] - 16s 171us/step - loss: 0.2163 - acc: 0.9836 - val_loss: 0.2502 - val_acc: 0.9808\n",
      "Epoch 42/50\n",
      "94479/94479 [==============================] - 16s 172us/step - loss: 0.3344 - acc: 0.9761 - val_loss: 0.3439 - val_acc: 0.9750\n",
      "Epoch 43/50\n",
      "94479/94479 [==============================] - 16s 172us/step - loss: 0.3274 - acc: 0.9768 - val_loss: 0.3372 - val_acc: 0.9759\n",
      "Epoch 44/50\n",
      "94479/94479 [==============================] - 16s 172us/step - loss: 0.3250 - acc: 0.9769 - val_loss: 0.3321 - val_acc: 0.9755\n",
      "Epoch 45/50\n",
      "94479/94479 [==============================] - 16s 170us/step - loss: 0.3260 - acc: 0.9768 - val_loss: 0.2895 - val_acc: 0.9789\n",
      "Epoch 46/50\n",
      "94479/94479 [==============================] - 17s 178us/step - loss: 0.2967 - acc: 0.9786 - val_loss: 0.2910 - val_acc: 0.9786\n",
      "Epoch 47/50\n",
      "94479/94479 [==============================] - 16s 171us/step - loss: 0.2951 - acc: 0.9789 - val_loss: 0.3405 - val_acc: 0.9759\n",
      "Epoch 48/50\n",
      "94479/94479 [==============================] - 17s 181us/step - loss: 0.3298 - acc: 0.9766 - val_loss: 0.2080 - val_acc: 0.9835\n",
      "Epoch 49/50\n",
      "94479/94479 [==============================] - 16s 174us/step - loss: 0.1996 - acc: 0.9847 - val_loss: 0.2179 - val_acc: 0.9832\n",
      "Epoch 50/50\n",
      "94479/94479 [==============================] - 17s 182us/step - loss: 0.2177 - acc: 0.9838 - val_loss: 0.3374 - val_acc: 0.9758\n"
     ]
    }
   ],
   "source": [
    "history = model.fit(X_train, dummy_y_train, validation_split=0.25, epochs=50, batch_size=32, verbose=1)"
   ]
  },
  {
   "cell_type": "code",
   "execution_count": 43,
   "metadata": {},
   "outputs": [],
   "source": [
    "from keras.utils import plot_model\n",
    "import pydotplus\n",
    "from keras.utils.vis_utils import model_to_dot\n",
    "keras.utils.vis_utils.pydot = pydot\n",
    "plot_model(model, to_file='model.png', show_shapes=True,)"
   ]
  },
  {
   "cell_type": "code",
   "execution_count": 44,
   "metadata": {},
   "outputs": [
    {
     "data": {
      "image/png": "[encoded data removed]",
      "text/plain": [
       "<Figure size 432x288 with 1 Axes>"
      ]
     },
     "metadata": {
      "needs_background": "light"
     },
     "output_type": "display_data"
    }
   ],
   "source": [
    "import matplotlib.pyplot as plt\n",
    "\n",
    "# Plot training & validation accuracy values\n",
    "plt.plot(history.history['acc'])\n",
    "plt.plot(history.history['val_acc'])\n",
    "plt.title('Accuracy')\n",
    "plt.ylabel('Accuracy')\n",
    "plt.xlabel('Epoch')\n",
    "plt.legend(['Training','Validation'], loc='upper left')\n",
    "\n",
    "plt.show()\n"
   ]
  },
  {
   "cell_type": "code",
   "execution_count": 45,
   "metadata": {},
   "outputs": [
    {
     "name": "stdout",
     "output_type": "stream",
     "text": [
      "<keras.callbacks.History object at 0x000001BD9EE70E10>\n"
     ]
    }
   ],
   "source": [
    "print(history)"
   ]
  },
  {
   "cell_type": "code",
   "execution_count": 47,
   "metadata": {},
   "outputs": [
    {
     "name": "stdout",
     "output_type": "stream",
     "text": [
      "[INFO] evaluating network...\n"
     ]
    },
    {
     "ename": "NameError",
     "evalue": "name 'classification_report' is not defined",
     "output_type": "error",
     "traceback": [
      "\u001b[1;31m---------------------------------------------------------------------------\u001b[0m",
      "\u001b[1;31mNameError\u001b[0m                                 Traceback (most recent call last)",
      "\u001b[1;32m<ipython-input-47-e1d55db015bb>\u001b[0m in \u001b[0;36m<module>\u001b[1;34m\u001b[0m\n\u001b[0;32m      1\u001b[0m \u001b[1;31m# evaluate the network\u001b[0m\u001b[1;33m\u001b[0m\u001b[1;33m\u001b[0m\u001b[1;33m\u001b[0m\u001b[0m\n\u001b[0;32m      2\u001b[0m \u001b[0mprint\u001b[0m\u001b[1;33m(\u001b[0m\u001b[1;34m\"[INFO] evaluating network...\"\u001b[0m\u001b[1;33m)\u001b[0m\u001b[1;33m\u001b[0m\u001b[1;33m\u001b[0m\u001b[0m\n\u001b[1;32m----> 3\u001b[1;33m print(classification_report(dummy_y_Test.argmax(axis=1),\n\u001b[0m\u001b[0;32m      4\u001b[0m                             predictions.argmax(axis=1)))\n",
      "\u001b[1;31mNameError\u001b[0m: name 'classification_report' is not defined"
     ]
    }
   ],
   "source": [
    "# evaluate the network\n",
    "print(\"[INFO] evaluating network...\")\n",
    "print(classification_report(dummy_y_Test.argmax(axis=1),\n",
    "                            predictions.argmax(axis=1)))\n"
   ]
  },
  {
   "cell_type": "code",
   "execution_count": 48,
   "metadata": {},
   "outputs": [
    {
     "name": "stdout",
     "output_type": "stream",
     "text": [
      "[[9.996482e-01 3.806080e-16 3.518191e-04 0.000000e+00 0.000000e+00]\n",
      " [1.000000e+00 0.000000e+00 0.000000e+00 0.000000e+00 0.000000e+00]\n",
      " [1.000000e+00 0.000000e+00 0.000000e+00 0.000000e+00 0.000000e+00]\n",
      " ...\n",
      " [1.000000e+00 0.000000e+00 6.555489e-37 0.000000e+00 0.000000e+00]\n",
      " [1.000000e+00 0.000000e+00 0.000000e+00 0.000000e+00 0.000000e+00]\n",
      " [1.000000e+00 0.000000e+00 0.000000e+00 0.000000e+00 0.000000e+00]]\n"
     ]
    }
   ],
   "source": [
    "predictions=model.predict(X_test, batch_size=32)\n",
    "print(predictions)"
   ]
  },
  {
   "cell_type": "code",
   "execution_count": 50,
   "metadata": {},
   "outputs": [
    {
     "name": "stdout",
     "output_type": "stream",
     "text": [
      "[INFO] evaluating network...\n",
      "              precision    recall  f1-score   support\n",
      "\n",
      "           0       0.65      0.97      0.78      4329\n",
      "           1       0.94      0.74      0.83      3332\n",
      "           2       0.83      0.72      0.77      1053\n",
      "           3       0.00      0.00      0.00        87\n",
      "           4       0.00      0.00      0.00      1199\n",
      "\n",
      "    accuracy                           0.74     10000\n",
      "   macro avg       0.48      0.49      0.48     10000\n",
      "weighted avg       0.68      0.74      0.69     10000\n",
      "\n"
     ]
    },
    {
     "name": "stderr",
     "output_type": "stream",
     "text": [
      "C:\\Users\\Lana\\Anaconda3\\envs\\tf_gpu\\lib\\site-packages\\sklearn\\metrics\\_classification.py:1272: UndefinedMetricWarning: Precision and F-score are ill-defined and being set to 0.0 in labels with no predicted samples. Use `zero_division` parameter to control this behavior.\n",
      "  _warn_prf(average, modifier, msg_start, len(result))\n"
     ]
    }
   ],
   "source": [
    "from sklearn.metrics import classification_report\n",
    "# evaluate the network\n",
    "print(\"[INFO] evaluating network...\")\n",
    "print(classification_report(dummy_y_Test.argmax(axis=1),\n",
    "                            predictions.argmax(axis=1)))\n"
   ]
  },
  {
   "cell_type": "code",
   "execution_count": 232,
   "metadata": {},
   "outputs": [
    {
     "name": "stdout",
     "output_type": "stream",
     "text": [
      "[[4138   49  142    0    0]\n",
      " [1027 2144  161    0    0]\n",
      " [  34  113  906    0    0]\n",
      " [  40    0   47    0    0]\n",
      " [1083    0  116    0    0]]\n"
     ]
    }
   ],
   "source": [
    "from sklearn.metrics import confusion_matrix\n",
    "\n",
    "confusion_matrix = confusion_matrix(dummy_y_Test.argmax(axis=1), predictions.argmax(axis=1))\n",
    "print(confusion_matrix)"
   ]
  },
  {
   "cell_type": "code",
   "execution_count": 225,
   "metadata": {},
   "outputs": [
    {
     "ename": "ValueError",
     "evalue": "Classification metrics can't handle a mix of multilabel-indicator and continuous-multioutput targets",
     "output_type": "error",
     "traceback": [
      "\u001b[1;31m---------------------------------------------------------------------------\u001b[0m",
      "\u001b[1;31mValueError\u001b[0m                                Traceback (most recent call last)",
      "\u001b[1;32m<ipython-input-225-5baa591e8a9d>\u001b[0m in \u001b[0;36m<module>\u001b[1;34m\u001b[0m\n\u001b[0;32m      8\u001b[0m \u001b[1;31m# precision_recall_fscore_support(features_subset2, labels_subset2, average='macro')\u001b[0m\u001b[1;33m\u001b[0m\u001b[1;33m\u001b[0m\u001b[1;33m\u001b[0m\u001b[0m\n\u001b[0;32m      9\u001b[0m \u001b[1;31m# print(metrics.confusion_matrix(Y_test, predictions))\u001b[0m\u001b[1;33m\u001b[0m\u001b[1;33m\u001b[0m\u001b[1;33m\u001b[0m\u001b[0m\n\u001b[1;32m---> 10\u001b[1;33m \u001b[0mprint\u001b[0m\u001b[1;33m(\u001b[0m\u001b[0mmetrics\u001b[0m\u001b[1;33m.\u001b[0m\u001b[0maccuracy_score\u001b[0m\u001b[1;33m(\u001b[0m\u001b[0mdummy_y_Test\u001b[0m\u001b[1;33m,\u001b[0m \u001b[0mpredictions\u001b[0m\u001b[1;33m)\u001b[0m\u001b[1;33m)\u001b[0m\u001b[1;33m\u001b[0m\u001b[1;33m\u001b[0m\u001b[0m\n\u001b[0m\u001b[0;32m     11\u001b[0m \u001b[0mprint\u001b[0m\u001b[1;33m(\u001b[0m\u001b[0mmetrics\u001b[0m\u001b[1;33m.\u001b[0m\u001b[0mprecision_score\u001b[0m\u001b[1;33m(\u001b[0m\u001b[0mdummy_y_Test\u001b[0m\u001b[1;33m,\u001b[0m \u001b[0mpredictions\u001b[0m\u001b[1;33m)\u001b[0m\u001b[1;33m)\u001b[0m\u001b[1;33m\u001b[0m\u001b[1;33m\u001b[0m\u001b[0m\n\u001b[0;32m     12\u001b[0m \u001b[0mprint\u001b[0m\u001b[1;33m(\u001b[0m\u001b[0mmetrics\u001b[0m\u001b[1;33m.\u001b[0m\u001b[0mrecall_score\u001b[0m\u001b[1;33m(\u001b[0m\u001b[0mdummy_y_Test\u001b[0m\u001b[1;33m,\u001b[0m \u001b[0mpredictions\u001b[0m\u001b[1;33m)\u001b[0m\u001b[1;33m)\u001b[0m\u001b[1;33m\u001b[0m\u001b[1;33m\u001b[0m\u001b[0m\n",
      "\u001b[1;32m~\\Anaconda3\\envs\\tf_gpu\\lib\\site-packages\\sklearn\\metrics\\_classification.py\u001b[0m in \u001b[0;36maccuracy_score\u001b[1;34m(y_true, y_pred, normalize, sample_weight)\u001b[0m\n\u001b[0;32m    183\u001b[0m \u001b[1;33m\u001b[0m\u001b[0m\n\u001b[0;32m    184\u001b[0m     \u001b[1;31m# Compute accuracy for each possible representation\u001b[0m\u001b[1;33m\u001b[0m\u001b[1;33m\u001b[0m\u001b[1;33m\u001b[0m\u001b[0m\n\u001b[1;32m--> 185\u001b[1;33m     \u001b[0my_type\u001b[0m\u001b[1;33m,\u001b[0m \u001b[0my_true\u001b[0m\u001b[1;33m,\u001b[0m \u001b[0my_pred\u001b[0m \u001b[1;33m=\u001b[0m \u001b[0m_check_targets\u001b[0m\u001b[1;33m(\u001b[0m\u001b[0my_true\u001b[0m\u001b[1;33m,\u001b[0m \u001b[0my_pred\u001b[0m\u001b[1;33m)\u001b[0m\u001b[1;33m\u001b[0m\u001b[1;33m\u001b[0m\u001b[0m\n\u001b[0m\u001b[0;32m    186\u001b[0m     \u001b[0mcheck_consistent_length\u001b[0m\u001b[1;33m(\u001b[0m\u001b[0my_true\u001b[0m\u001b[1;33m,\u001b[0m \u001b[0my_pred\u001b[0m\u001b[1;33m,\u001b[0m \u001b[0msample_weight\u001b[0m\u001b[1;33m)\u001b[0m\u001b[1;33m\u001b[0m\u001b[1;33m\u001b[0m\u001b[0m\n\u001b[0;32m    187\u001b[0m     \u001b[1;32mif\u001b[0m \u001b[0my_type\u001b[0m\u001b[1;33m.\u001b[0m\u001b[0mstartswith\u001b[0m\u001b[1;33m(\u001b[0m\u001b[1;34m'multilabel'\u001b[0m\u001b[1;33m)\u001b[0m\u001b[1;33m:\u001b[0m\u001b[1;33m\u001b[0m\u001b[1;33m\u001b[0m\u001b[0m\n",
      "\u001b[1;32m~\\Anaconda3\\envs\\tf_gpu\\lib\\site-packages\\sklearn\\metrics\\_classification.py\u001b[0m in \u001b[0;36m_check_targets\u001b[1;34m(y_true, y_pred)\u001b[0m\n\u001b[0;32m     88\u001b[0m     \u001b[1;32mif\u001b[0m \u001b[0mlen\u001b[0m\u001b[1;33m(\u001b[0m\u001b[0my_type\u001b[0m\u001b[1;33m)\u001b[0m \u001b[1;33m>\u001b[0m \u001b[1;36m1\u001b[0m\u001b[1;33m:\u001b[0m\u001b[1;33m\u001b[0m\u001b[1;33m\u001b[0m\u001b[0m\n\u001b[0;32m     89\u001b[0m         raise ValueError(\"Classification metrics can't handle a mix of {0} \"\n\u001b[1;32m---> 90\u001b[1;33m                          \"and {1} targets\".format(type_true, type_pred))\n\u001b[0m\u001b[0;32m     91\u001b[0m \u001b[1;33m\u001b[0m\u001b[0m\n\u001b[0;32m     92\u001b[0m     \u001b[1;31m# We can't have more than one value on y_type => The set is no more needed\u001b[0m\u001b[1;33m\u001b[0m\u001b[1;33m\u001b[0m\u001b[1;33m\u001b[0m\u001b[0m\n",
      "\u001b[1;31mValueError\u001b[0m: Classification metrics can't handle a mix of multilabel-indicator and continuous-multioutput targets"
     ]
    }
   ],
   "source": [
    "from sklearn.metrics import precision_recall_fscore_support\n",
    "from sklearn.metrics import plot_confusion_matrix\n",
    "from sklearn.model_selection import train_test_split\n",
    "from sklearn.metrics import classification_report\n",
    "from sklearn import metrics\n",
    "\n",
    "\n",
    "# precision_recall_fscore_support(features_subset2, labels_subset2, average='macro')\n",
    "# print(metrics.confusion_matrix(Y_test, predictions))\n",
    "print(metrics.accuracy_score(dummy_y_Test, predictions))\n",
    "print(metrics.precision_score(dummy_y_Test, predictions))\n",
    "print(metrics.recall_score(dummy_y_Test, predictions))"
   ]
  },
  {
   "cell_type": "code",
   "execution_count": null,
   "metadata": {},
   "outputs": [],
   "source": []
  }
 ],
 "metadata": {
  "kernelspec": {
   "display_name": "Python 3",
   "language": "python",
   "name": "python3"
  },
  "language_info": {
   "codemirror_mode": {
    "name": "ipython",
    "version": 3
   },
   "file_extension": ".py",
   "mimetype": "text/x-python",
   "name": "python",
   "nbconvert_exporter": "python",
   "pygments_lexer": "ipython3",
   "version": "3.7.7"
  }
 },
 "nbformat": 4,
 "nbformat_minor": 4
}
